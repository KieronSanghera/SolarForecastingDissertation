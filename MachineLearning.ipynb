{
  "nbformat": 4,
  "nbformat_minor": 0,
  "metadata": {
    "colab": {
      "name": "ThisOne.ipynb",
      "provenance": [],
      "collapsed_sections": []
    },
    "kernelspec": {
      "name": "python3",
      "display_name": "Python 3"
    },
    "language_info": {
      "name": "python"
    },
    "accelerator": "GPU"
  },
  "cells": [
    {
      "cell_type": "code",
      "execution_count": null,
      "metadata": {
        "id": "6jL7xlpLo9ka"
      },
      "outputs": [],
      "source": [
        "import pandas as pd\n",
        "import numpy as np\n",
        "from tensorflow.keras.models import Sequential\n",
        "from tensorflow.keras.layers import *\n",
        "from tensorflow.keras.callbacks import ModelCheckpoint\n",
        "from tensorflow.keras.losses import MeanSquaredError\n",
        "from tensorflow.keras.metrics import RootMeanSquaredError\n",
        "from tensorflow.keras.optimizers import Adam\n",
        "from tensorflow.keras.optimizers import Nadam\n",
        "from tensorflow.keras.models import load_model\n",
        "from sklearn.preprocessing import LabelEncoder\n",
        "from sklearn.preprocessing import MinMaxScaler\n",
        "from sklearn.metrics import mean_squared_error as mse\n",
        "import matplotlib.pyplot as plt"
      ]
    },
    {
      "cell_type": "code",
      "source": [
        "df = pd.read_csv(r'/content/Plantasia_Sep2019-Nov2020.csv')\n",
        "df.index = pd.to_datetime(df['forecastPeriod'])\n",
        "df = df.drop('locationId', axis=1)\n",
        "df = df.drop('dataDate', axis=1)\n",
        "df = df.drop('dataDateUT', axis=1)\n",
        "df = df.drop('forecastPeriodUT', axis=1)\n",
        "df = df.drop('forecastPeriod', axis=1)\n",
        "df = df.drop('AO_total_consumption', axis=1)\n",
        "le = LabelEncoder()\n",
        "df['windDirection'] = le.fit_transform(df['windDirection'])\n",
        "le1 = LabelEncoder()\n",
        "df['visibility'] = le1.fit_transform(df['visibility'])\n",
        "df = df.drop('windDirection', axis=1)\n",
        "df = df.drop('windSpeed', axis=1)\n",
        "df = df.drop('visibility', axis=1)\n",
        "df = df.drop('feelsLike', axis=1)\n",
        "df = df.drop('precipitationProbability', axis=1)\n",
        "df = df.round({'AO_PV_generation': 1})"
      ],
      "metadata": {
        "id": "rRhqfrEr3Alg"
      },
      "execution_count": null,
      "outputs": []
    },
    {
      "cell_type": "code",
      "source": [
        "df['seconds'] = df.index.map(pd.Timestamp.timestamp)\n",
        "\n",
        "hour = 60*60\n",
        "day = hour*24\n",
        "year = 365.2425*day\n",
        "\n",
        "df['Day sin'] = np.sin(df['seconds'] * (2* np.pi / day))\n",
        "df['Day cos'] = np.cos(df['seconds'] * (2* np.pi / day))\n",
        "df['Year sin'] = np.sin(df['seconds'] * (2* np.pi / year))\n",
        "df['Year cos'] = np.cos(df['seconds'] * (2* np.pi / year))\n",
        "\n",
        "df = df.drop('seconds', axis=1)\n",
        "df"
      ],
      "metadata": {
        "id": "jqhuMpAWA_M6",
        "colab": {
          "base_uri": "https://localhost:8080/",
          "height": 710
        },
        "outputId": "c4f077ed-9cad-4fca-90d6-28d585a549dc"
      },
      "execution_count": null,
      "outputs": [
        {
          "output_type": "execute_result",
          "data": {
            "text/plain": [
              "                     temperature  weatherType  uvindex  AO_PV_generation  \\\n",
              "forecastPeriod                                                             \n",
              "2019-09-01 00:00:00           14            7        0               0.0   \n",
              "2019-09-01 03:00:00           12            2        0               0.0   \n",
              "2019-09-01 06:00:00           12            1        1              13.1   \n",
              "2019-09-01 09:00:00           14            3        3              32.1   \n",
              "2019-09-01 12:00:00           17            3        5              33.2   \n",
              "...                          ...          ...      ...               ...   \n",
              "2020-11-30 09:00:00            9            8        1               1.8   \n",
              "2020-11-30 12:00:00           11            7        1               0.9   \n",
              "2020-11-30 15:00:00           11            7        1               0.0   \n",
              "2020-11-30 18:00:00           10            7        0               0.0   \n",
              "2020-11-30 21:00:00           10            7        0               0.0   \n",
              "\n",
              "                          Day sin       Day cos  Year sin  Year cos  \n",
              "forecastPeriod                                                       \n",
              "2019-09-01 00:00:00 -8.223106e-12  1.000000e+00 -0.862760 -0.505613  \n",
              "2019-09-01 03:00:00  7.071068e-01  7.071068e-01 -0.863845 -0.503757  \n",
              "2019-09-01 06:00:00  1.000000e+00  1.078645e-11 -0.864927 -0.501898  \n",
              "2019-09-01 09:00:00  7.071068e-01 -7.071068e-01 -0.866004 -0.500037  \n",
              "2019-09-01 12:00:00  1.334979e-11 -1.000000e+00 -0.867077 -0.498174  \n",
              "...                           ...           ...       ...       ...  \n",
              "2020-11-30 09:00:00  7.071068e-01 -7.071068e-01 -0.508255  0.861207  \n",
              "2020-11-30 12:00:00  3.172823e-12 -1.000000e+00 -0.506402  0.862298  \n",
              "2020-11-30 15:00:00 -7.071068e-01 -7.071068e-01 -0.504546  0.863385  \n",
              "2020-11-30 18:00:00 -1.000000e+00 -5.736167e-12 -0.502689  0.864468  \n",
              "2020-11-30 21:00:00 -7.071068e-01  7.071068e-01 -0.500828  0.865547  \n",
              "\n",
              "[3656 rows x 8 columns]"
            ],
            "text/html": [
              "\n",
              "  <div id=\"df-452cfe47-a302-4430-9ecb-23385b9d02da\">\n",
              "    <div class=\"colab-df-container\">\n",
              "      <div>\n",
              "<style scoped>\n",
              "    .dataframe tbody tr th:only-of-type {\n",
              "        vertical-align: middle;\n",
              "    }\n",
              "\n",
              "    .dataframe tbody tr th {\n",
              "        vertical-align: top;\n",
              "    }\n",
              "\n",
              "    .dataframe thead th {\n",
              "        text-align: right;\n",
              "    }\n",
              "</style>\n",
              "<table border=\"1\" class=\"dataframe\">\n",
              "  <thead>\n",
              "    <tr style=\"text-align: right;\">\n",
              "      <th></th>\n",
              "      <th>temperature</th>\n",
              "      <th>weatherType</th>\n",
              "      <th>uvindex</th>\n",
              "      <th>AO_PV_generation</th>\n",
              "      <th>Day sin</th>\n",
              "      <th>Day cos</th>\n",
              "      <th>Year sin</th>\n",
              "      <th>Year cos</th>\n",
              "    </tr>\n",
              "    <tr>\n",
              "      <th>forecastPeriod</th>\n",
              "      <th></th>\n",
              "      <th></th>\n",
              "      <th></th>\n",
              "      <th></th>\n",
              "      <th></th>\n",
              "      <th></th>\n",
              "      <th></th>\n",
              "      <th></th>\n",
              "    </tr>\n",
              "  </thead>\n",
              "  <tbody>\n",
              "    <tr>\n",
              "      <th>2019-09-01 00:00:00</th>\n",
              "      <td>14</td>\n",
              "      <td>7</td>\n",
              "      <td>0</td>\n",
              "      <td>0.0</td>\n",
              "      <td>-8.223106e-12</td>\n",
              "      <td>1.000000e+00</td>\n",
              "      <td>-0.862760</td>\n",
              "      <td>-0.505613</td>\n",
              "    </tr>\n",
              "    <tr>\n",
              "      <th>2019-09-01 03:00:00</th>\n",
              "      <td>12</td>\n",
              "      <td>2</td>\n",
              "      <td>0</td>\n",
              "      <td>0.0</td>\n",
              "      <td>7.071068e-01</td>\n",
              "      <td>7.071068e-01</td>\n",
              "      <td>-0.863845</td>\n",
              "      <td>-0.503757</td>\n",
              "    </tr>\n",
              "    <tr>\n",
              "      <th>2019-09-01 06:00:00</th>\n",
              "      <td>12</td>\n",
              "      <td>1</td>\n",
              "      <td>1</td>\n",
              "      <td>13.1</td>\n",
              "      <td>1.000000e+00</td>\n",
              "      <td>1.078645e-11</td>\n",
              "      <td>-0.864927</td>\n",
              "      <td>-0.501898</td>\n",
              "    </tr>\n",
              "    <tr>\n",
              "      <th>2019-09-01 09:00:00</th>\n",
              "      <td>14</td>\n",
              "      <td>3</td>\n",
              "      <td>3</td>\n",
              "      <td>32.1</td>\n",
              "      <td>7.071068e-01</td>\n",
              "      <td>-7.071068e-01</td>\n",
              "      <td>-0.866004</td>\n",
              "      <td>-0.500037</td>\n",
              "    </tr>\n",
              "    <tr>\n",
              "      <th>2019-09-01 12:00:00</th>\n",
              "      <td>17</td>\n",
              "      <td>3</td>\n",
              "      <td>5</td>\n",
              "      <td>33.2</td>\n",
              "      <td>1.334979e-11</td>\n",
              "      <td>-1.000000e+00</td>\n",
              "      <td>-0.867077</td>\n",
              "      <td>-0.498174</td>\n",
              "    </tr>\n",
              "    <tr>\n",
              "      <th>...</th>\n",
              "      <td>...</td>\n",
              "      <td>...</td>\n",
              "      <td>...</td>\n",
              "      <td>...</td>\n",
              "      <td>...</td>\n",
              "      <td>...</td>\n",
              "      <td>...</td>\n",
              "      <td>...</td>\n",
              "    </tr>\n",
              "    <tr>\n",
              "      <th>2020-11-30 09:00:00</th>\n",
              "      <td>9</td>\n",
              "      <td>8</td>\n",
              "      <td>1</td>\n",
              "      <td>1.8</td>\n",
              "      <td>7.071068e-01</td>\n",
              "      <td>-7.071068e-01</td>\n",
              "      <td>-0.508255</td>\n",
              "      <td>0.861207</td>\n",
              "    </tr>\n",
              "    <tr>\n",
              "      <th>2020-11-30 12:00:00</th>\n",
              "      <td>11</td>\n",
              "      <td>7</td>\n",
              "      <td>1</td>\n",
              "      <td>0.9</td>\n",
              "      <td>3.172823e-12</td>\n",
              "      <td>-1.000000e+00</td>\n",
              "      <td>-0.506402</td>\n",
              "      <td>0.862298</td>\n",
              "    </tr>\n",
              "    <tr>\n",
              "      <th>2020-11-30 15:00:00</th>\n",
              "      <td>11</td>\n",
              "      <td>7</td>\n",
              "      <td>1</td>\n",
              "      <td>0.0</td>\n",
              "      <td>-7.071068e-01</td>\n",
              "      <td>-7.071068e-01</td>\n",
              "      <td>-0.504546</td>\n",
              "      <td>0.863385</td>\n",
              "    </tr>\n",
              "    <tr>\n",
              "      <th>2020-11-30 18:00:00</th>\n",
              "      <td>10</td>\n",
              "      <td>7</td>\n",
              "      <td>0</td>\n",
              "      <td>0.0</td>\n",
              "      <td>-1.000000e+00</td>\n",
              "      <td>-5.736167e-12</td>\n",
              "      <td>-0.502689</td>\n",
              "      <td>0.864468</td>\n",
              "    </tr>\n",
              "    <tr>\n",
              "      <th>2020-11-30 21:00:00</th>\n",
              "      <td>10</td>\n",
              "      <td>7</td>\n",
              "      <td>0</td>\n",
              "      <td>0.0</td>\n",
              "      <td>-7.071068e-01</td>\n",
              "      <td>7.071068e-01</td>\n",
              "      <td>-0.500828</td>\n",
              "      <td>0.865547</td>\n",
              "    </tr>\n",
              "  </tbody>\n",
              "</table>\n",
              "<p>3656 rows × 8 columns</p>\n",
              "</div>\n",
              "      <button class=\"colab-df-convert\" onclick=\"convertToInteractive('df-452cfe47-a302-4430-9ecb-23385b9d02da')\"\n",
              "              title=\"Convert this dataframe to an interactive table.\"\n",
              "              style=\"display:none;\">\n",
              "        \n",
              "  <svg xmlns=\"http://www.w3.org/2000/svg\" height=\"24px\"viewBox=\"0 0 24 24\"\n",
              "       width=\"24px\">\n",
              "    <path d=\"M0 0h24v24H0V0z\" fill=\"none\"/>\n",
              "    <path d=\"M18.56 5.44l.94 2.06.94-2.06 2.06-.94-2.06-.94-.94-2.06-.94 2.06-2.06.94zm-11 1L8.5 8.5l.94-2.06 2.06-.94-2.06-.94L8.5 2.5l-.94 2.06-2.06.94zm10 10l.94 2.06.94-2.06 2.06-.94-2.06-.94-.94-2.06-.94 2.06-2.06.94z\"/><path d=\"M17.41 7.96l-1.37-1.37c-.4-.4-.92-.59-1.43-.59-.52 0-1.04.2-1.43.59L10.3 9.45l-7.72 7.72c-.78.78-.78 2.05 0 2.83L4 21.41c.39.39.9.59 1.41.59.51 0 1.02-.2 1.41-.59l7.78-7.78 2.81-2.81c.8-.78.8-2.07 0-2.86zM5.41 20L4 18.59l7.72-7.72 1.47 1.35L5.41 20z\"/>\n",
              "  </svg>\n",
              "      </button>\n",
              "      \n",
              "  <style>\n",
              "    .colab-df-container {\n",
              "      display:flex;\n",
              "      flex-wrap:wrap;\n",
              "      gap: 12px;\n",
              "    }\n",
              "\n",
              "    .colab-df-convert {\n",
              "      background-color: #E8F0FE;\n",
              "      border: none;\n",
              "      border-radius: 50%;\n",
              "      cursor: pointer;\n",
              "      display: none;\n",
              "      fill: #1967D2;\n",
              "      height: 32px;\n",
              "      padding: 0 0 0 0;\n",
              "      width: 32px;\n",
              "    }\n",
              "\n",
              "    .colab-df-convert:hover {\n",
              "      background-color: #E2EBFA;\n",
              "      box-shadow: 0px 1px 2px rgba(60, 64, 67, 0.3), 0px 1px 3px 1px rgba(60, 64, 67, 0.15);\n",
              "      fill: #174EA6;\n",
              "    }\n",
              "\n",
              "    [theme=dark] .colab-df-convert {\n",
              "      background-color: #3B4455;\n",
              "      fill: #D2E3FC;\n",
              "    }\n",
              "\n",
              "    [theme=dark] .colab-df-convert:hover {\n",
              "      background-color: #434B5C;\n",
              "      box-shadow: 0px 1px 3px 1px rgba(0, 0, 0, 0.15);\n",
              "      filter: drop-shadow(0px 1px 2px rgba(0, 0, 0, 0.3));\n",
              "      fill: #FFFFFF;\n",
              "    }\n",
              "  </style>\n",
              "\n",
              "      <script>\n",
              "        const buttonEl =\n",
              "          document.querySelector('#df-452cfe47-a302-4430-9ecb-23385b9d02da button.colab-df-convert');\n",
              "        buttonEl.style.display =\n",
              "          google.colab.kernel.accessAllowed ? 'block' : 'none';\n",
              "\n",
              "        async function convertToInteractive(key) {\n",
              "          const element = document.querySelector('#df-452cfe47-a302-4430-9ecb-23385b9d02da');\n",
              "          const dataTable =\n",
              "            await google.colab.kernel.invokeFunction('convertToInteractive',\n",
              "                                                     [key], {});\n",
              "          if (!dataTable) return;\n",
              "\n",
              "          const docLinkHtml = 'Like what you see? Visit the ' +\n",
              "            '<a target=\"_blank\" href=https://colab.research.google.com/notebooks/data_table.ipynb>data table notebook</a>'\n",
              "            + ' to learn more about interactive tables.';\n",
              "          element.innerHTML = '';\n",
              "          dataTable['output_type'] = 'display_data';\n",
              "          await google.colab.output.renderOutput(dataTable, element);\n",
              "          const docLink = document.createElement('div');\n",
              "          docLink.innerHTML = docLinkHtml;\n",
              "          element.appendChild(docLink);\n",
              "        }\n",
              "      </script>\n",
              "    </div>\n",
              "  </div>\n",
              "  "
            ]
          },
          "metadata": {},
          "execution_count": 583
        }
      ]
    },
    {
      "cell_type": "code",
      "source": [
        "def df_to_xy(df, windowSize):\n",
        "  df_as_np = df.to_numpy()\n",
        "  x = []\n",
        "  y = []\n",
        "  for i in range(len(df_as_np)-windowSize):\n",
        "    row = [r for r in df_as_np[i:i+windowSize]]\n",
        "    x.append(row)\n",
        "    label = df_as_np[i+windowSize][3]\n",
        "    y.append(label)\n",
        "  return np.array(x), np.array(y)"
      ],
      "metadata": {
        "id": "YKGNgP683p0V"
      },
      "execution_count": null,
      "outputs": []
    },
    {
      "cell_type": "code",
      "source": [
        "windowSize = 56\n",
        "dataSize = 3200\n",
        "\n",
        "\n",
        "x, y = df_to_xy(df, windowSize)\n",
        "x_train, y_train = x[:3000],y[:3000]\n",
        "x_val, y_val = x[3000:dataSize],y[3000:dataSize]\n",
        "x_test, y_test = x[dataSize:], y[dataSize:]\n",
        "\n",
        "x_train.shape, y_train.shape, x_val.shape, y_val.shape, x_test.shape, y_test.shape"
      ],
      "metadata": {
        "colab": {
          "base_uri": "https://localhost:8080/"
        },
        "id": "XVZcwFdDX5u8",
        "outputId": "c12c427a-77f5-45fd-d055-6c24d20d0f26"
      },
      "execution_count": null,
      "outputs": [
        {
          "output_type": "execute_result",
          "data": {
            "text/plain": [
              "((3000, 56, 8), (3000,), (200, 56, 8), (200,), (400, 56, 8), (400,))"
            ]
          },
          "metadata": {},
          "execution_count": 585
        }
      ]
    },
    {
      "cell_type": "code",
      "source": [
        "model = Sequential()\n",
        "\n",
        "model.add(InputLayer((windowSize,8)))\n",
        "model.add(LSTM(250))\n",
        "model.add(Dense(1, 'softplus'))"
      ],
      "metadata": {
        "id": "zlxyrz3q42lD"
      },
      "execution_count": null,
      "outputs": []
    },
    {
      "cell_type": "code",
      "source": [
        "cp = ModelCheckpoint('model/', save_best_only=True)\n",
        "model.compile(loss=MeanSquaredError(), optimizer=Nadam(learning_rate=0.00015), metrics=[RootMeanSquaredError(),'accuracy'])"
      ],
      "metadata": {
        "id": "ZhbzJ42L441U"
      },
      "execution_count": null,
      "outputs": []
    },
    {
      "cell_type": "code",
      "source": [
        "model.fit(x_train, y_train, validation_data=(x_val, y_val), epochs=200, callbacks=[cp], batch_size=6)"
      ],
      "metadata": {
        "colab": {
          "base_uri": "https://localhost:8080/"
        },
        "id": "QGeu91OHGNuZ",
        "outputId": "439dbd3a-f7a1-4546-cabf-d2d78741c7ce"
      },
      "execution_count": null,
      "outputs": [
        {
          "output_type": "stream",
          "name": "stdout",
          "text": [
            "Epoch 1/200\n",
            "494/500 [============================>.] - ETA: 0s - loss: 73.7579 - root_mean_squared_error: 8.5882 - accuracy: 0.0651"
          ]
        },
        {
          "output_type": "stream",
          "name": "stderr",
          "text": [
            "WARNING:absl:Found untraced functions such as lstm_cell_2_layer_call_fn, lstm_cell_2_layer_call_and_return_conditional_losses while saving (showing 2 of 2). These functions will not be directly callable after loading.\n"
          ]
        },
        {
          "output_type": "stream",
          "name": "stdout",
          "text": [
            "INFO:tensorflow:Assets written to: model/assets\n"
          ]
        },
        {
          "output_type": "stream",
          "name": "stderr",
          "text": [
            "INFO:tensorflow:Assets written to: model/assets\n",
            "WARNING:absl:<keras.layers.recurrent.LSTMCell object at 0x7f57aed3c0d0> has the same name 'LSTMCell' as a built-in Keras object. Consider renaming <class 'keras.layers.recurrent.LSTMCell'> to avoid naming conflicts when loading with `tf.keras.models.load_model`. If renaming is not possible, pass the object in the `custom_objects` parameter of the load function.\n"
          ]
        },
        {
          "output_type": "stream",
          "name": "stdout",
          "text": [
            "\b\b\b\b\b\b\b\b\b\b\b\b\b\b\b\b\b\b\b\b\b\b\b\b\b\b\b\b\b\b\b\b\b\b\b\b\b\b\b\b\b\b\b\b\b\b\b\b\b\b\b\b\b\b\b\b\b\b\b\b\b\b\b\b\b\b\b\b\b\b\b\b\b\b\b\b\b\b\b\b\b\b\b\b\b\b\b\b\b\b\b\b\b\b\b\b\b\b\b\b\b\b\b\b\b\b\b\b\b\b\b\b\b\b\b\b\b\b\b\r500/500 [==============================] - 10s 17ms/step - loss: 73.0647 - root_mean_squared_error: 8.5478 - accuracy: 0.0667 - val_loss: 43.0525 - val_root_mean_squared_error: 6.5614 - val_accuracy: 0.2400\n",
            "Epoch 2/200\n",
            "494/500 [============================>.] - ETA: 0s - loss: 33.9324 - root_mean_squared_error: 5.8252 - accuracy: 0.3644"
          ]
        },
        {
          "output_type": "stream",
          "name": "stderr",
          "text": [
            "WARNING:absl:Found untraced functions such as lstm_cell_2_layer_call_fn, lstm_cell_2_layer_call_and_return_conditional_losses while saving (showing 2 of 2). These functions will not be directly callable after loading.\n"
          ]
        },
        {
          "output_type": "stream",
          "name": "stdout",
          "text": [
            "INFO:tensorflow:Assets written to: model/assets\n"
          ]
        },
        {
          "output_type": "stream",
          "name": "stderr",
          "text": [
            "INFO:tensorflow:Assets written to: model/assets\n",
            "WARNING:absl:<keras.layers.recurrent.LSTMCell object at 0x7f57aed3c0d0> has the same name 'LSTMCell' as a built-in Keras object. Consider renaming <class 'keras.layers.recurrent.LSTMCell'> to avoid naming conflicts when loading with `tf.keras.models.load_model`. If renaming is not possible, pass the object in the `custom_objects` parameter of the load function.\n"
          ]
        },
        {
          "output_type": "stream",
          "name": "stdout",
          "text": [
            "\b\b\b\b\b\b\b\b\b\b\b\b\b\b\b\b\b\b\b\b\b\b\b\b\b\b\b\b\b\b\b\b\b\b\b\b\b\b\b\b\b\b\b\b\b\b\b\b\b\b\b\b\b\b\b\b\b\b\b\b\b\b\b\b\b\b\b\b\b\b\b\b\b\b\b\b\b\b\b\b\b\b\b\b\b\b\b\b\b\b\b\b\b\b\b\b\b\b\b\b\b\b\b\b\b\b\b\b\b\b\b\b\b\b\b\b\b\b\b\r500/500 [==============================] - 7s 13ms/step - loss: 34.0563 - root_mean_squared_error: 5.8358 - accuracy: 0.3640 - val_loss: 33.7360 - val_root_mean_squared_error: 5.8083 - val_accuracy: 0.4050\n",
            "Epoch 3/200\n",
            "493/500 [============================>.] - ETA: 0s - loss: 24.6427 - root_mean_squared_error: 4.9641 - accuracy: 0.4243"
          ]
        },
        {
          "output_type": "stream",
          "name": "stderr",
          "text": [
            "WARNING:absl:Found untraced functions such as lstm_cell_2_layer_call_fn, lstm_cell_2_layer_call_and_return_conditional_losses while saving (showing 2 of 2). These functions will not be directly callable after loading.\n"
          ]
        },
        {
          "output_type": "stream",
          "name": "stdout",
          "text": [
            "INFO:tensorflow:Assets written to: model/assets\n"
          ]
        },
        {
          "output_type": "stream",
          "name": "stderr",
          "text": [
            "INFO:tensorflow:Assets written to: model/assets\n",
            "WARNING:absl:<keras.layers.recurrent.LSTMCell object at 0x7f57aed3c0d0> has the same name 'LSTMCell' as a built-in Keras object. Consider renaming <class 'keras.layers.recurrent.LSTMCell'> to avoid naming conflicts when loading with `tf.keras.models.load_model`. If renaming is not possible, pass the object in the `custom_objects` parameter of the load function.\n"
          ]
        },
        {
          "output_type": "stream",
          "name": "stdout",
          "text": [
            "\b\b\b\b\b\b\b\b\b\b\b\b\b\b\b\b\b\b\b\b\b\b\b\b\b\b\b\b\b\b\b\b\b\b\b\b\b\b\b\b\b\b\b\b\b\b\b\b\b\b\b\b\b\b\b\b\b\b\b\b\b\b\b\b\b\b\b\b\b\b\b\b\b\b\b\b\b\b\b\b\b\b\b\b\b\b\b\b\b\b\b\b\b\b\b\b\b\b\b\b\b\b\b\b\b\b\b\b\b\b\b\b\b\b\b\b\b\b\b\r500/500 [==============================] - 7s 13ms/step - loss: 24.6680 - root_mean_squared_error: 4.9667 - accuracy: 0.4223 - val_loss: 25.5733 - val_root_mean_squared_error: 5.0570 - val_accuracy: 0.5000\n",
            "Epoch 4/200\n",
            "500/500 [==============================] - ETA: 0s - loss: 19.8829 - root_mean_squared_error: 4.4590 - accuracy: 0.4373"
          ]
        },
        {
          "output_type": "stream",
          "name": "stderr",
          "text": [
            "WARNING:absl:Found untraced functions such as lstm_cell_2_layer_call_fn, lstm_cell_2_layer_call_and_return_conditional_losses while saving (showing 2 of 2). These functions will not be directly callable after loading.\n"
          ]
        },
        {
          "output_type": "stream",
          "name": "stdout",
          "text": [
            "INFO:tensorflow:Assets written to: model/assets\n"
          ]
        },
        {
          "output_type": "stream",
          "name": "stderr",
          "text": [
            "INFO:tensorflow:Assets written to: model/assets\n",
            "WARNING:absl:<keras.layers.recurrent.LSTMCell object at 0x7f57aed3c0d0> has the same name 'LSTMCell' as a built-in Keras object. Consider renaming <class 'keras.layers.recurrent.LSTMCell'> to avoid naming conflicts when loading with `tf.keras.models.load_model`. If renaming is not possible, pass the object in the `custom_objects` parameter of the load function.\n"
          ]
        },
        {
          "output_type": "stream",
          "name": "stdout",
          "text": [
            "\b\b\b\b\b\b\b\b\b\b\b\b\b\b\b\b\b\b\b\b\b\b\b\b\b\b\b\b\b\b\b\b\b\b\b\b\b\b\b\b\b\b\b\b\b\b\b\b\b\b\b\b\b\b\b\b\b\b\b\b\b\b\b\b\b\b\b\b\b\b\b\b\b\b\b\b\b\b\b\b\b\b\b\b\b\b\b\b\b\b\b\b\b\b\b\b\b\b\b\b\b\b\b\b\b\b\b\b\b\b\b\b\b\b\b\b\b\b\b\r500/500 [==============================] - 7s 13ms/step - loss: 19.8829 - root_mean_squared_error: 4.4590 - accuracy: 0.4373 - val_loss: 23.8007 - val_root_mean_squared_error: 4.8786 - val_accuracy: 0.5150\n",
            "Epoch 5/200\n",
            "493/500 [============================>.] - ETA: 0s - loss: 17.7454 - root_mean_squared_error: 4.2125 - accuracy: 0.4412"
          ]
        },
        {
          "output_type": "stream",
          "name": "stderr",
          "text": [
            "WARNING:absl:Found untraced functions such as lstm_cell_2_layer_call_fn, lstm_cell_2_layer_call_and_return_conditional_losses while saving (showing 2 of 2). These functions will not be directly callable after loading.\n"
          ]
        },
        {
          "output_type": "stream",
          "name": "stdout",
          "text": [
            "INFO:tensorflow:Assets written to: model/assets\n"
          ]
        },
        {
          "output_type": "stream",
          "name": "stderr",
          "text": [
            "INFO:tensorflow:Assets written to: model/assets\n",
            "WARNING:absl:<keras.layers.recurrent.LSTMCell object at 0x7f57aed3c0d0> has the same name 'LSTMCell' as a built-in Keras object. Consider renaming <class 'keras.layers.recurrent.LSTMCell'> to avoid naming conflicts when loading with `tf.keras.models.load_model`. If renaming is not possible, pass the object in the `custom_objects` parameter of the load function.\n"
          ]
        },
        {
          "output_type": "stream",
          "name": "stdout",
          "text": [
            "\b\b\b\b\b\b\b\b\b\b\b\b\b\b\b\b\b\b\b\b\b\b\b\b\b\b\b\b\b\b\b\b\b\b\b\b\b\b\b\b\b\b\b\b\b\b\b\b\b\b\b\b\b\b\b\b\b\b\b\b\b\b\b\b\b\b\b\b\b\b\b\b\b\b\b\b\b\b\b\b\b\b\b\b\b\b\b\b\b\b\b\b\b\b\b\b\b\b\b\b\b\b\b\b\b\b\b\b\b\b\b\b\b\b\b\b\b\b\b\r500/500 [==============================] - 7s 13ms/step - loss: 17.6791 - root_mean_squared_error: 4.2046 - accuracy: 0.4397 - val_loss: 18.2173 - val_root_mean_squared_error: 4.2682 - val_accuracy: 0.5150\n",
            "Epoch 6/200\n",
            "491/500 [============================>.] - ETA: 0s - loss: 16.1410 - root_mean_squared_error: 4.0176 - accuracy: 0.4433"
          ]
        },
        {
          "output_type": "stream",
          "name": "stderr",
          "text": [
            "WARNING:absl:Found untraced functions such as lstm_cell_2_layer_call_fn, lstm_cell_2_layer_call_and_return_conditional_losses while saving (showing 2 of 2). These functions will not be directly callable after loading.\n"
          ]
        },
        {
          "output_type": "stream",
          "name": "stdout",
          "text": [
            "INFO:tensorflow:Assets written to: model/assets\n"
          ]
        },
        {
          "output_type": "stream",
          "name": "stderr",
          "text": [
            "INFO:tensorflow:Assets written to: model/assets\n",
            "WARNING:absl:<keras.layers.recurrent.LSTMCell object at 0x7f57aed3c0d0> has the same name 'LSTMCell' as a built-in Keras object. Consider renaming <class 'keras.layers.recurrent.LSTMCell'> to avoid naming conflicts when loading with `tf.keras.models.load_model`. If renaming is not possible, pass the object in the `custom_objects` parameter of the load function.\n"
          ]
        },
        {
          "output_type": "stream",
          "name": "stdout",
          "text": [
            "\b\b\b\b\b\b\b\b\b\b\b\b\b\b\b\b\b\b\b\b\b\b\b\b\b\b\b\b\b\b\b\b\b\b\b\b\b\b\b\b\b\b\b\b\b\b\b\b\b\b\b\b\b\b\b\b\b\b\b\b\b\b\b\b\b\b\b\b\b\b\b\b\b\b\b\b\b\b\b\b\b\b\b\b\b\b\b\b\b\b\b\b\b\b\b\b\b\b\b\b\b\b\b\b\b\b\b\b\b\b\b\b\b\b\b\b\b\b\b\r500/500 [==============================] - 8s 15ms/step - loss: 16.0361 - root_mean_squared_error: 4.0045 - accuracy: 0.4430 - val_loss: 16.8864 - val_root_mean_squared_error: 4.1093 - val_accuracy: 0.5200\n",
            "Epoch 7/200\n",
            "497/500 [============================>.] - ETA: 0s - loss: 15.1022 - root_mean_squared_error: 3.8862 - accuracy: 0.4440"
          ]
        },
        {
          "output_type": "stream",
          "name": "stderr",
          "text": [
            "WARNING:absl:Found untraced functions such as lstm_cell_2_layer_call_fn, lstm_cell_2_layer_call_and_return_conditional_losses while saving (showing 2 of 2). These functions will not be directly callable after loading.\n"
          ]
        },
        {
          "output_type": "stream",
          "name": "stdout",
          "text": [
            "INFO:tensorflow:Assets written to: model/assets\n"
          ]
        },
        {
          "output_type": "stream",
          "name": "stderr",
          "text": [
            "INFO:tensorflow:Assets written to: model/assets\n",
            "WARNING:absl:<keras.layers.recurrent.LSTMCell object at 0x7f57aed3c0d0> has the same name 'LSTMCell' as a built-in Keras object. Consider renaming <class 'keras.layers.recurrent.LSTMCell'> to avoid naming conflicts when loading with `tf.keras.models.load_model`. If renaming is not possible, pass the object in the `custom_objects` parameter of the load function.\n"
          ]
        },
        {
          "output_type": "stream",
          "name": "stdout",
          "text": [
            "\b\b\b\b\b\b\b\b\b\b\b\b\b\b\b\b\b\b\b\b\b\b\b\b\b\b\b\b\b\b\b\b\b\b\b\b\b\b\b\b\b\b\b\b\b\b\b\b\b\b\b\b\b\b\b\b\b\b\b\b\b\b\b\b\b\b\b\b\b\b\b\b\b\b\b\b\b\b\b\b\b\b\b\b\b\b\b\b\b\b\b\b\b\b\b\b\b\b\b\b\b\b\b\b\b\b\b\b\b\b\b\b\b\b\b\b\b\b\b\r500/500 [==============================] - 7s 13ms/step - loss: 15.0636 - root_mean_squared_error: 3.8812 - accuracy: 0.4437 - val_loss: 15.6108 - val_root_mean_squared_error: 3.9511 - val_accuracy: 0.5350\n",
            "Epoch 8/200\n",
            "500/500 [==============================] - ETA: 0s - loss: 14.3434 - root_mean_squared_error: 3.7873 - accuracy: 0.4427"
          ]
        },
        {
          "output_type": "stream",
          "name": "stderr",
          "text": [
            "WARNING:absl:Found untraced functions such as lstm_cell_2_layer_call_fn, lstm_cell_2_layer_call_and_return_conditional_losses while saving (showing 2 of 2). These functions will not be directly callable after loading.\n"
          ]
        },
        {
          "output_type": "stream",
          "name": "stdout",
          "text": [
            "INFO:tensorflow:Assets written to: model/assets\n"
          ]
        },
        {
          "output_type": "stream",
          "name": "stderr",
          "text": [
            "INFO:tensorflow:Assets written to: model/assets\n",
            "WARNING:absl:<keras.layers.recurrent.LSTMCell object at 0x7f57aed3c0d0> has the same name 'LSTMCell' as a built-in Keras object. Consider renaming <class 'keras.layers.recurrent.LSTMCell'> to avoid naming conflicts when loading with `tf.keras.models.load_model`. If renaming is not possible, pass the object in the `custom_objects` parameter of the load function.\n"
          ]
        },
        {
          "output_type": "stream",
          "name": "stdout",
          "text": [
            "\b\b\b\b\b\b\b\b\b\b\b\b\b\b\b\b\b\b\b\b\b\b\b\b\b\b\b\b\b\b\b\b\b\b\b\b\b\b\b\b\b\b\b\b\b\b\b\b\b\b\b\b\b\b\b\b\b\b\b\b\b\b\b\b\b\b\b\b\b\b\b\b\b\b\b\b\b\b\b\b\b\b\b\b\b\b\b\b\b\b\b\b\b\b\b\b\b\b\b\b\b\b\b\b\b\b\b\b\b\b\b\b\b\b\b\b\b\b\b\r500/500 [==============================] - 7s 13ms/step - loss: 14.3434 - root_mean_squared_error: 3.7873 - accuracy: 0.4427 - val_loss: 13.7054 - val_root_mean_squared_error: 3.7021 - val_accuracy: 0.5500\n",
            "Epoch 9/200\n",
            "495/500 [============================>.] - ETA: 0s - loss: 13.7301 - root_mean_squared_error: 3.7054 - accuracy: 0.4438"
          ]
        },
        {
          "output_type": "stream",
          "name": "stderr",
          "text": [
            "WARNING:absl:Found untraced functions such as lstm_cell_2_layer_call_fn, lstm_cell_2_layer_call_and_return_conditional_losses while saving (showing 2 of 2). These functions will not be directly callable after loading.\n"
          ]
        },
        {
          "output_type": "stream",
          "name": "stdout",
          "text": [
            "INFO:tensorflow:Assets written to: model/assets\n"
          ]
        },
        {
          "output_type": "stream",
          "name": "stderr",
          "text": [
            "INFO:tensorflow:Assets written to: model/assets\n",
            "WARNING:absl:<keras.layers.recurrent.LSTMCell object at 0x7f57aed3c0d0> has the same name 'LSTMCell' as a built-in Keras object. Consider renaming <class 'keras.layers.recurrent.LSTMCell'> to avoid naming conflicts when loading with `tf.keras.models.load_model`. If renaming is not possible, pass the object in the `custom_objects` parameter of the load function.\n"
          ]
        },
        {
          "output_type": "stream",
          "name": "stdout",
          "text": [
            "\b\b\b\b\b\b\b\b\b\b\b\b\b\b\b\b\b\b\b\b\b\b\b\b\b\b\b\b\b\b\b\b\b\b\b\b\b\b\b\b\b\b\b\b\b\b\b\b\b\b\b\b\b\b\b\b\b\b\b\b\b\b\b\b\b\b\b\b\b\b\b\b\b\b\b\b\b\b\b\b\b\b\b\b\b\b\b\b\b\b\b\b\b\b\b\b\b\b\b\b\b\b\b\b\b\b\b\b\b\b\b\b\b\b\b\b\b\b\b\r500/500 [==============================] - 7s 13ms/step - loss: 13.6974 - root_mean_squared_error: 3.7010 - accuracy: 0.4453 - val_loss: 13.3389 - val_root_mean_squared_error: 3.6523 - val_accuracy: 0.5350\n",
            "Epoch 10/200\n",
            "500/500 [==============================] - 3s 6ms/step - loss: 13.3467 - root_mean_squared_error: 3.6533 - accuracy: 0.4457 - val_loss: 15.7688 - val_root_mean_squared_error: 3.9710 - val_accuracy: 0.5500\n",
            "Epoch 11/200\n",
            "499/500 [============================>.] - ETA: 0s - loss: 12.9317 - root_mean_squared_error: 3.5961 - accuracy: 0.4466"
          ]
        },
        {
          "output_type": "stream",
          "name": "stderr",
          "text": [
            "WARNING:absl:Found untraced functions such as lstm_cell_2_layer_call_fn, lstm_cell_2_layer_call_and_return_conditional_losses while saving (showing 2 of 2). These functions will not be directly callable after loading.\n"
          ]
        },
        {
          "output_type": "stream",
          "name": "stdout",
          "text": [
            "INFO:tensorflow:Assets written to: model/assets\n"
          ]
        },
        {
          "output_type": "stream",
          "name": "stderr",
          "text": [
            "INFO:tensorflow:Assets written to: model/assets\n",
            "WARNING:absl:<keras.layers.recurrent.LSTMCell object at 0x7f57aed3c0d0> has the same name 'LSTMCell' as a built-in Keras object. Consider renaming <class 'keras.layers.recurrent.LSTMCell'> to avoid naming conflicts when loading with `tf.keras.models.load_model`. If renaming is not possible, pass the object in the `custom_objects` parameter of the load function.\n"
          ]
        },
        {
          "output_type": "stream",
          "name": "stdout",
          "text": [
            "\b\b\b\b\b\b\b\b\b\b\b\b\b\b\b\b\b\b\b\b\b\b\b\b\b\b\b\b\b\b\b\b\b\b\b\b\b\b\b\b\b\b\b\b\b\b\b\b\b\b\b\b\b\b\b\b\b\b\b\b\b\b\b\b\b\b\b\b\b\b\b\b\b\b\b\b\b\b\b\b\b\b\b\b\b\b\b\b\b\b\b\b\b\b\b\b\b\b\b\b\b\b\b\b\b\b\b\b\b\b\b\b\b\b\b\b\b\b\b\r500/500 [==============================] - 7s 13ms/step - loss: 12.9451 - root_mean_squared_error: 3.5979 - accuracy: 0.4467 - val_loss: 12.8269 - val_root_mean_squared_error: 3.5815 - val_accuracy: 0.5450\n",
            "Epoch 12/200\n",
            "500/500 [==============================] - 3s 6ms/step - loss: 12.7350 - root_mean_squared_error: 3.5686 - accuracy: 0.4483 - val_loss: 14.6635 - val_root_mean_squared_error: 3.8293 - val_accuracy: 0.5550\n",
            "Epoch 13/200\n",
            "500/500 [==============================] - 3s 6ms/step - loss: 12.6968 - root_mean_squared_error: 3.5633 - accuracy: 0.4470 - val_loss: 13.3710 - val_root_mean_squared_error: 3.6566 - val_accuracy: 0.5450\n",
            "Epoch 14/200\n",
            "500/500 [==============================] - 3s 6ms/step - loss: 12.2610 - root_mean_squared_error: 3.5016 - accuracy: 0.4473 - val_loss: 13.7762 - val_root_mean_squared_error: 3.7116 - val_accuracy: 0.5500\n",
            "Epoch 15/200\n",
            "496/500 [============================>.] - ETA: 0s - loss: 12.3340 - root_mean_squared_error: 3.5120 - accuracy: 0.4469"
          ]
        },
        {
          "output_type": "stream",
          "name": "stderr",
          "text": [
            "WARNING:absl:Found untraced functions such as lstm_cell_2_layer_call_fn, lstm_cell_2_layer_call_and_return_conditional_losses while saving (showing 2 of 2). These functions will not be directly callable after loading.\n"
          ]
        },
        {
          "output_type": "stream",
          "name": "stdout",
          "text": [
            "INFO:tensorflow:Assets written to: model/assets\n"
          ]
        },
        {
          "output_type": "stream",
          "name": "stderr",
          "text": [
            "INFO:tensorflow:Assets written to: model/assets\n",
            "WARNING:absl:<keras.layers.recurrent.LSTMCell object at 0x7f57aed3c0d0> has the same name 'LSTMCell' as a built-in Keras object. Consider renaming <class 'keras.layers.recurrent.LSTMCell'> to avoid naming conflicts when loading with `tf.keras.models.load_model`. If renaming is not possible, pass the object in the `custom_objects` parameter of the load function.\n"
          ]
        },
        {
          "output_type": "stream",
          "name": "stdout",
          "text": [
            "\b\b\b\b\b\b\b\b\b\b\b\b\b\b\b\b\b\b\b\b\b\b\b\b\b\b\b\b\b\b\b\b\b\b\b\b\b\b\b\b\b\b\b\b\b\b\b\b\b\b\b\b\b\b\b\b\b\b\b\b\b\b\b\b\b\b\b\b\b\b\b\b\b\b\b\b\b\b\b\b\b\b\b\b\b\b\b\b\b\b\b\b\b\b\b\b\b\b\b\b\b\b\b\b\b\b\b\b\b\b\b\b\b\b\b\b\b\b\b\r500/500 [==============================] - 8s 15ms/step - loss: 12.2535 - root_mean_squared_error: 3.5005 - accuracy: 0.4470 - val_loss: 12.2800 - val_root_mean_squared_error: 3.5043 - val_accuracy: 0.5500\n",
            "Epoch 16/200\n",
            "500/500 [==============================] - 3s 6ms/step - loss: 11.9168 - root_mean_squared_error: 3.4521 - accuracy: 0.4483 - val_loss: 13.9140 - val_root_mean_squared_error: 3.7301 - val_accuracy: 0.5600\n",
            "Epoch 17/200\n",
            "495/500 [============================>.] - ETA: 0s - loss: 11.7265 - root_mean_squared_error: 3.4244 - accuracy: 0.4481"
          ]
        },
        {
          "output_type": "stream",
          "name": "stderr",
          "text": [
            "WARNING:absl:Found untraced functions such as lstm_cell_2_layer_call_fn, lstm_cell_2_layer_call_and_return_conditional_losses while saving (showing 2 of 2). These functions will not be directly callable after loading.\n"
          ]
        },
        {
          "output_type": "stream",
          "name": "stdout",
          "text": [
            "INFO:tensorflow:Assets written to: model/assets\n"
          ]
        },
        {
          "output_type": "stream",
          "name": "stderr",
          "text": [
            "INFO:tensorflow:Assets written to: model/assets\n",
            "WARNING:absl:<keras.layers.recurrent.LSTMCell object at 0x7f57aed3c0d0> has the same name 'LSTMCell' as a built-in Keras object. Consider renaming <class 'keras.layers.recurrent.LSTMCell'> to avoid naming conflicts when loading with `tf.keras.models.load_model`. If renaming is not possible, pass the object in the `custom_objects` parameter of the load function.\n"
          ]
        },
        {
          "output_type": "stream",
          "name": "stdout",
          "text": [
            "\b\b\b\b\b\b\b\b\b\b\b\b\b\b\b\b\b\b\b\b\b\b\b\b\b\b\b\b\b\b\b\b\b\b\b\b\b\b\b\b\b\b\b\b\b\b\b\b\b\b\b\b\b\b\b\b\b\b\b\b\b\b\b\b\b\b\b\b\b\b\b\b\b\b\b\b\b\b\b\b\b\b\b\b\b\b\b\b\b\b\b\b\b\b\b\b\b\b\b\b\b\b\b\b\b\b\b\b\b\b\b\b\b\b\b\b\b\b\b\r500/500 [==============================] - 7s 13ms/step - loss: 11.6267 - root_mean_squared_error: 3.4098 - accuracy: 0.4487 - val_loss: 12.0251 - val_root_mean_squared_error: 3.4677 - val_accuracy: 0.5650\n",
            "Epoch 18/200\n",
            "500/500 [==============================] - 3s 6ms/step - loss: 11.5745 - root_mean_squared_error: 3.4021 - accuracy: 0.4497 - val_loss: 13.0163 - val_root_mean_squared_error: 3.6078 - val_accuracy: 0.5400\n",
            "Epoch 19/200\n",
            "496/500 [============================>.] - ETA: 0s - loss: 11.4914 - root_mean_squared_error: 3.3899 - accuracy: 0.4509"
          ]
        },
        {
          "output_type": "stream",
          "name": "stderr",
          "text": [
            "WARNING:absl:Found untraced functions such as lstm_cell_2_layer_call_fn, lstm_cell_2_layer_call_and_return_conditional_losses while saving (showing 2 of 2). These functions will not be directly callable after loading.\n"
          ]
        },
        {
          "output_type": "stream",
          "name": "stdout",
          "text": [
            "INFO:tensorflow:Assets written to: model/assets\n"
          ]
        },
        {
          "output_type": "stream",
          "name": "stderr",
          "text": [
            "INFO:tensorflow:Assets written to: model/assets\n",
            "WARNING:absl:<keras.layers.recurrent.LSTMCell object at 0x7f57aed3c0d0> has the same name 'LSTMCell' as a built-in Keras object. Consider renaming <class 'keras.layers.recurrent.LSTMCell'> to avoid naming conflicts when loading with `tf.keras.models.load_model`. If renaming is not possible, pass the object in the `custom_objects` parameter of the load function.\n"
          ]
        },
        {
          "output_type": "stream",
          "name": "stdout",
          "text": [
            "\b\b\b\b\b\b\b\b\b\b\b\b\b\b\b\b\b\b\b\b\b\b\b\b\b\b\b\b\b\b\b\b\b\b\b\b\b\b\b\b\b\b\b\b\b\b\b\b\b\b\b\b\b\b\b\b\b\b\b\b\b\b\b\b\b\b\b\b\b\b\b\b\b\b\b\b\b\b\b\b\b\b\b\b\b\b\b\b\b\b\b\b\b\b\b\b\b\b\b\b\b\b\b\b\b\b\b\b\b\b\b\b\b\b\b\b\b\b\b\r500/500 [==============================] - 7s 13ms/step - loss: 11.5651 - root_mean_squared_error: 3.4007 - accuracy: 0.4517 - val_loss: 11.9620 - val_root_mean_squared_error: 3.4586 - val_accuracy: 0.5550\n",
            "Epoch 20/200\n",
            "493/500 [============================>.] - ETA: 0s - loss: 11.3324 - root_mean_squared_error: 3.3664 - accuracy: 0.4479"
          ]
        },
        {
          "output_type": "stream",
          "name": "stderr",
          "text": [
            "WARNING:absl:Found untraced functions such as lstm_cell_2_layer_call_fn, lstm_cell_2_layer_call_and_return_conditional_losses while saving (showing 2 of 2). These functions will not be directly callable after loading.\n"
          ]
        },
        {
          "output_type": "stream",
          "name": "stdout",
          "text": [
            "INFO:tensorflow:Assets written to: model/assets\n"
          ]
        },
        {
          "output_type": "stream",
          "name": "stderr",
          "text": [
            "INFO:tensorflow:Assets written to: model/assets\n",
            "WARNING:absl:<keras.layers.recurrent.LSTMCell object at 0x7f57aed3c0d0> has the same name 'LSTMCell' as a built-in Keras object. Consider renaming <class 'keras.layers.recurrent.LSTMCell'> to avoid naming conflicts when loading with `tf.keras.models.load_model`. If renaming is not possible, pass the object in the `custom_objects` parameter of the load function.\n"
          ]
        },
        {
          "output_type": "stream",
          "name": "stdout",
          "text": [
            "\b\b\b\b\b\b\b\b\b\b\b\b\b\b\b\b\b\b\b\b\b\b\b\b\b\b\b\b\b\b\b\b\b\b\b\b\b\b\b\b\b\b\b\b\b\b\b\b\b\b\b\b\b\b\b\b\b\b\b\b\b\b\b\b\b\b\b\b\b\b\b\b\b\b\b\b\b\b\b\b\b\b\b\b\b\b\b\b\b\b\b\b\b\b\b\b\b\b\b\b\b\b\b\b\b\b\b\b\b\b\b\b\b\b\b\b\b\b\b\r500/500 [==============================] - 7s 13ms/step - loss: 11.3802 - root_mean_squared_error: 3.3735 - accuracy: 0.4490 - val_loss: 11.5141 - val_root_mean_squared_error: 3.3932 - val_accuracy: 0.5550\n",
            "Epoch 21/200\n",
            "500/500 [==============================] - 3s 6ms/step - loss: 11.1226 - root_mean_squared_error: 3.3351 - accuracy: 0.4503 - val_loss: 12.2235 - val_root_mean_squared_error: 3.4962 - val_accuracy: 0.5500\n",
            "Epoch 22/200\n",
            "500/500 [==============================] - 3s 6ms/step - loss: 11.2624 - root_mean_squared_error: 3.3559 - accuracy: 0.4493 - val_loss: 11.8306 - val_root_mean_squared_error: 3.4396 - val_accuracy: 0.5500\n",
            "Epoch 23/200\n",
            "500/500 [==============================] - 3s 6ms/step - loss: 10.7909 - root_mean_squared_error: 3.2850 - accuracy: 0.4503 - val_loss: 13.2512 - val_root_mean_squared_error: 3.6402 - val_accuracy: 0.5450\n",
            "Epoch 24/200\n",
            "500/500 [==============================] - 3s 6ms/step - loss: 10.7138 - root_mean_squared_error: 3.2732 - accuracy: 0.4517 - val_loss: 11.6032 - val_root_mean_squared_error: 3.4064 - val_accuracy: 0.5750\n",
            "Epoch 25/200\n",
            "500/500 [==============================] - 3s 6ms/step - loss: 10.3867 - root_mean_squared_error: 3.2228 - accuracy: 0.4537 - val_loss: 13.6805 - val_root_mean_squared_error: 3.6987 - val_accuracy: 0.5400\n",
            "Epoch 26/200\n",
            "500/500 [==============================] - 3s 6ms/step - loss: 10.2788 - root_mean_squared_error: 3.2061 - accuracy: 0.4507 - val_loss: 11.6188 - val_root_mean_squared_error: 3.4086 - val_accuracy: 0.5650\n",
            "Epoch 27/200\n",
            "500/500 [==============================] - 3s 6ms/step - loss: 10.1160 - root_mean_squared_error: 3.1806 - accuracy: 0.4507 - val_loss: 12.2445 - val_root_mean_squared_error: 3.4992 - val_accuracy: 0.5700\n",
            "Epoch 28/200\n",
            "500/500 [==============================] - 3s 6ms/step - loss: 10.1203 - root_mean_squared_error: 3.1812 - accuracy: 0.4517 - val_loss: 11.5158 - val_root_mean_squared_error: 3.3935 - val_accuracy: 0.5650\n",
            "Epoch 29/200\n",
            "500/500 [==============================] - 3s 6ms/step - loss: 9.7759 - root_mean_squared_error: 3.1266 - accuracy: 0.4527 - val_loss: 12.6649 - val_root_mean_squared_error: 3.5588 - val_accuracy: 0.5650\n",
            "Epoch 30/200\n",
            "492/500 [============================>.] - ETA: 0s - loss: 9.5901 - root_mean_squared_error: 3.0968 - accuracy: 0.4529"
          ]
        },
        {
          "output_type": "stream",
          "name": "stderr",
          "text": [
            "WARNING:absl:Found untraced functions such as lstm_cell_2_layer_call_fn, lstm_cell_2_layer_call_and_return_conditional_losses while saving (showing 2 of 2). These functions will not be directly callable after loading.\n"
          ]
        },
        {
          "output_type": "stream",
          "name": "stdout",
          "text": [
            "INFO:tensorflow:Assets written to: model/assets\n"
          ]
        },
        {
          "output_type": "stream",
          "name": "stderr",
          "text": [
            "INFO:tensorflow:Assets written to: model/assets\n",
            "WARNING:absl:<keras.layers.recurrent.LSTMCell object at 0x7f57aed3c0d0> has the same name 'LSTMCell' as a built-in Keras object. Consider renaming <class 'keras.layers.recurrent.LSTMCell'> to avoid naming conflicts when loading with `tf.keras.models.load_model`. If renaming is not possible, pass the object in the `custom_objects` parameter of the load function.\n"
          ]
        },
        {
          "output_type": "stream",
          "name": "stdout",
          "text": [
            "\b\b\b\b\b\b\b\b\b\b\b\b\b\b\b\b\b\b\b\b\b\b\b\b\b\b\b\b\b\b\b\b\b\b\b\b\b\b\b\b\b\b\b\b\b\b\b\b\b\b\b\b\b\b\b\b\b\b\b\b\b\b\b\b\b\b\b\b\b\b\b\b\b\b\b\b\b\b\b\b\b\b\b\b\b\b\b\b\b\b\b\b\b\b\b\b\b\b\b\b\b\b\b\b\b\b\b\b\b\b\b\b\b\b\b\b\b\b\r500/500 [==============================] - 6s 13ms/step - loss: 9.5834 - root_mean_squared_error: 3.0957 - accuracy: 0.4513 - val_loss: 11.3661 - val_root_mean_squared_error: 3.3714 - val_accuracy: 0.5600\n",
            "Epoch 31/200\n",
            "500/500 [==============================] - 3s 6ms/step - loss: 9.5848 - root_mean_squared_error: 3.0959 - accuracy: 0.4557 - val_loss: 11.7443 - val_root_mean_squared_error: 3.4270 - val_accuracy: 0.5450\n",
            "Epoch 32/200\n",
            "500/500 [==============================] - 3s 6ms/step - loss: 9.2588 - root_mean_squared_error: 3.0428 - accuracy: 0.4513 - val_loss: 12.5917 - val_root_mean_squared_error: 3.5485 - val_accuracy: 0.5650\n",
            "Epoch 33/200\n",
            "494/500 [============================>.] - ETA: 0s - loss: 9.2083 - root_mean_squared_error: 3.0345 - accuracy: 0.4545"
          ]
        },
        {
          "output_type": "stream",
          "name": "stderr",
          "text": [
            "WARNING:absl:Found untraced functions such as lstm_cell_2_layer_call_fn, lstm_cell_2_layer_call_and_return_conditional_losses while saving (showing 2 of 2). These functions will not be directly callable after loading.\n"
          ]
        },
        {
          "output_type": "stream",
          "name": "stdout",
          "text": [
            "INFO:tensorflow:Assets written to: model/assets\n"
          ]
        },
        {
          "output_type": "stream",
          "name": "stderr",
          "text": [
            "INFO:tensorflow:Assets written to: model/assets\n",
            "WARNING:absl:<keras.layers.recurrent.LSTMCell object at 0x7f57aed3c0d0> has the same name 'LSTMCell' as a built-in Keras object. Consider renaming <class 'keras.layers.recurrent.LSTMCell'> to avoid naming conflicts when loading with `tf.keras.models.load_model`. If renaming is not possible, pass the object in the `custom_objects` parameter of the load function.\n"
          ]
        },
        {
          "output_type": "stream",
          "name": "stdout",
          "text": [
            "\b\b\b\b\b\b\b\b\b\b\b\b\b\b\b\b\b\b\b\b\b\b\b\b\b\b\b\b\b\b\b\b\b\b\b\b\b\b\b\b\b\b\b\b\b\b\b\b\b\b\b\b\b\b\b\b\b\b\b\b\b\b\b\b\b\b\b\b\b\b\b\b\b\b\b\b\b\b\b\b\b\b\b\b\b\b\b\b\b\b\b\b\b\b\b\b\b\b\b\b\b\b\b\b\b\b\b\b\b\b\b\b\b\b\b\b\b\b\r500/500 [==============================] - 8s 15ms/step - loss: 9.2489 - root_mean_squared_error: 3.0412 - accuracy: 0.4547 - val_loss: 11.1747 - val_root_mean_squared_error: 3.3429 - val_accuracy: 0.5650\n",
            "Epoch 34/200\n",
            "500/500 [==============================] - 3s 6ms/step - loss: 9.1286 - root_mean_squared_error: 3.0214 - accuracy: 0.4533 - val_loss: 12.1040 - val_root_mean_squared_error: 3.4791 - val_accuracy: 0.5700\n",
            "Epoch 35/200\n",
            "500/500 [==============================] - 3s 6ms/step - loss: 8.6450 - root_mean_squared_error: 2.9402 - accuracy: 0.4523 - val_loss: 11.8855 - val_root_mean_squared_error: 3.4475 - val_accuracy: 0.5650\n",
            "Epoch 36/200\n",
            "500/500 [==============================] - 3s 6ms/step - loss: 8.7552 - root_mean_squared_error: 2.9589 - accuracy: 0.4513 - val_loss: 11.7524 - val_root_mean_squared_error: 3.4282 - val_accuracy: 0.5600\n",
            "Epoch 37/200\n",
            "500/500 [==============================] - 3s 6ms/step - loss: 8.4938 - root_mean_squared_error: 2.9144 - accuracy: 0.4540 - val_loss: 12.5613 - val_root_mean_squared_error: 3.5442 - val_accuracy: 0.5650\n",
            "Epoch 38/200\n",
            "500/500 [==============================] - 3s 6ms/step - loss: 8.3610 - root_mean_squared_error: 2.8915 - accuracy: 0.4537 - val_loss: 11.2255 - val_root_mean_squared_error: 3.3504 - val_accuracy: 0.5700\n",
            "Epoch 39/200\n",
            "500/500 [==============================] - 3s 6ms/step - loss: 8.0030 - root_mean_squared_error: 2.8290 - accuracy: 0.4530 - val_loss: 12.8714 - val_root_mean_squared_error: 3.5877 - val_accuracy: 0.5600\n",
            "Epoch 40/200\n",
            "500/500 [==============================] - 3s 6ms/step - loss: 7.6478 - root_mean_squared_error: 2.7655 - accuracy: 0.4533 - val_loss: 12.0533 - val_root_mean_squared_error: 3.4718 - val_accuracy: 0.5650\n",
            "Epoch 41/200\n",
            "500/500 [==============================] - 3s 6ms/step - loss: 7.5416 - root_mean_squared_error: 2.7462 - accuracy: 0.4533 - val_loss: 13.2861 - val_root_mean_squared_error: 3.6450 - val_accuracy: 0.5700\n",
            "Epoch 42/200\n",
            "500/500 [==============================] - 3s 6ms/step - loss: 7.4078 - root_mean_squared_error: 2.7217 - accuracy: 0.4543 - val_loss: 12.7438 - val_root_mean_squared_error: 3.5698 - val_accuracy: 0.5600\n",
            "Epoch 43/200\n",
            "500/500 [==============================] - 3s 6ms/step - loss: 7.1676 - root_mean_squared_error: 2.6772 - accuracy: 0.4537 - val_loss: 13.7763 - val_root_mean_squared_error: 3.7116 - val_accuracy: 0.5650\n",
            "Epoch 44/200\n",
            "500/500 [==============================] - 3s 6ms/step - loss: 6.5367 - root_mean_squared_error: 2.5567 - accuracy: 0.4550 - val_loss: 12.7007 - val_root_mean_squared_error: 3.5638 - val_accuracy: 0.5500\n",
            "Epoch 45/200\n",
            "500/500 [==============================] - 3s 6ms/step - loss: 6.5906 - root_mean_squared_error: 2.5672 - accuracy: 0.4547 - val_loss: 13.0148 - val_root_mean_squared_error: 3.6076 - val_accuracy: 0.5700\n",
            "Epoch 46/200\n",
            "500/500 [==============================] - 3s 6ms/step - loss: 6.7330 - root_mean_squared_error: 2.5948 - accuracy: 0.4533 - val_loss: 13.4909 - val_root_mean_squared_error: 3.6730 - val_accuracy: 0.5600\n",
            "Epoch 47/200\n",
            "500/500 [==============================] - 3s 6ms/step - loss: 6.1627 - root_mean_squared_error: 2.4825 - accuracy: 0.4557 - val_loss: 12.5206 - val_root_mean_squared_error: 3.5384 - val_accuracy: 0.5500\n",
            "Epoch 48/200\n",
            "500/500 [==============================] - 3s 6ms/step - loss: 6.0294 - root_mean_squared_error: 2.4555 - accuracy: 0.4540 - val_loss: 14.4061 - val_root_mean_squared_error: 3.7955 - val_accuracy: 0.5600\n",
            "Epoch 49/200\n",
            "500/500 [==============================] - 3s 6ms/step - loss: 5.7067 - root_mean_squared_error: 2.3889 - accuracy: 0.4553 - val_loss: 13.5433 - val_root_mean_squared_error: 3.6801 - val_accuracy: 0.5650\n",
            "Epoch 50/200\n",
            "500/500 [==============================] - 3s 6ms/step - loss: 5.6642 - root_mean_squared_error: 2.3800 - accuracy: 0.4553 - val_loss: 15.2333 - val_root_mean_squared_error: 3.9030 - val_accuracy: 0.5750\n",
            "Epoch 51/200\n",
            "500/500 [==============================] - 3s 6ms/step - loss: 5.4493 - root_mean_squared_error: 2.3344 - accuracy: 0.4560 - val_loss: 12.2159 - val_root_mean_squared_error: 3.4951 - val_accuracy: 0.5750\n",
            "Epoch 52/200\n",
            "500/500 [==============================] - 3s 6ms/step - loss: 5.2283 - root_mean_squared_error: 2.2865 - accuracy: 0.4543 - val_loss: 14.5699 - val_root_mean_squared_error: 3.8171 - val_accuracy: 0.5600\n",
            "Epoch 53/200\n",
            "500/500 [==============================] - 3s 6ms/step - loss: 5.1039 - root_mean_squared_error: 2.2592 - accuracy: 0.4537 - val_loss: 12.5538 - val_root_mean_squared_error: 3.5431 - val_accuracy: 0.5800\n",
            "Epoch 54/200\n",
            "500/500 [==============================] - 3s 6ms/step - loss: 5.4465 - root_mean_squared_error: 2.3338 - accuracy: 0.4550 - val_loss: 13.4799 - val_root_mean_squared_error: 3.6715 - val_accuracy: 0.5650\n",
            "Epoch 55/200\n",
            "500/500 [==============================] - 3s 6ms/step - loss: 5.0348 - root_mean_squared_error: 2.2438 - accuracy: 0.4537 - val_loss: 13.5492 - val_root_mean_squared_error: 3.6809 - val_accuracy: 0.5600\n",
            "Epoch 56/200\n",
            "500/500 [==============================] - 3s 6ms/step - loss: 4.5160 - root_mean_squared_error: 2.1251 - accuracy: 0.4543 - val_loss: 14.3054 - val_root_mean_squared_error: 3.7822 - val_accuracy: 0.5700\n",
            "Epoch 57/200\n",
            "500/500 [==============================] - 3s 6ms/step - loss: 4.2429 - root_mean_squared_error: 2.0598 - accuracy: 0.4547 - val_loss: 12.4305 - val_root_mean_squared_error: 3.5257 - val_accuracy: 0.5850\n",
            "Epoch 58/200\n",
            "500/500 [==============================] - 3s 6ms/step - loss: 3.9900 - root_mean_squared_error: 1.9975 - accuracy: 0.4560 - val_loss: 13.4782 - val_root_mean_squared_error: 3.6713 - val_accuracy: 0.5650\n",
            "Epoch 59/200\n",
            "500/500 [==============================] - 3s 6ms/step - loss: 3.8765 - root_mean_squared_error: 1.9689 - accuracy: 0.4537 - val_loss: 12.9592 - val_root_mean_squared_error: 3.5999 - val_accuracy: 0.5700\n",
            "Epoch 60/200\n",
            "500/500 [==============================] - 3s 6ms/step - loss: 3.8302 - root_mean_squared_error: 1.9571 - accuracy: 0.4543 - val_loss: 14.7341 - val_root_mean_squared_error: 3.8385 - val_accuracy: 0.5750\n",
            "Epoch 61/200\n",
            "500/500 [==============================] - 3s 6ms/step - loss: 3.8826 - root_mean_squared_error: 1.9704 - accuracy: 0.4567 - val_loss: 15.4435 - val_root_mean_squared_error: 3.9298 - val_accuracy: 0.5650\n",
            "Epoch 62/200\n",
            "500/500 [==============================] - 3s 6ms/step - loss: 3.8138 - root_mean_squared_error: 1.9529 - accuracy: 0.4563 - val_loss: 14.5499 - val_root_mean_squared_error: 3.8144 - val_accuracy: 0.5800\n",
            "Epoch 63/200\n",
            "500/500 [==============================] - 3s 6ms/step - loss: 3.2859 - root_mean_squared_error: 1.8127 - accuracy: 0.4543 - val_loss: 16.7290 - val_root_mean_squared_error: 4.0901 - val_accuracy: 0.5650\n",
            "Epoch 64/200\n",
            "500/500 [==============================] - 3s 6ms/step - loss: 3.3168 - root_mean_squared_error: 1.8212 - accuracy: 0.4543 - val_loss: 15.4200 - val_root_mean_squared_error: 3.9268 - val_accuracy: 0.5650\n",
            "Epoch 65/200\n",
            "500/500 [==============================] - 3s 6ms/step - loss: 3.2532 - root_mean_squared_error: 1.8037 - accuracy: 0.4547 - val_loss: 13.9101 - val_root_mean_squared_error: 3.7296 - val_accuracy: 0.5600\n",
            "Epoch 66/200\n",
            "500/500 [==============================] - 3s 6ms/step - loss: 2.9373 - root_mean_squared_error: 1.7138 - accuracy: 0.4550 - val_loss: 15.4757 - val_root_mean_squared_error: 3.9339 - val_accuracy: 0.5700\n",
            "Epoch 67/200\n",
            "500/500 [==============================] - 3s 6ms/step - loss: 3.0905 - root_mean_squared_error: 1.7580 - accuracy: 0.4530 - val_loss: 16.3660 - val_root_mean_squared_error: 4.0455 - val_accuracy: 0.5750\n",
            "Epoch 68/200\n",
            "500/500 [==============================] - 3s 6ms/step - loss: 3.0827 - root_mean_squared_error: 1.7558 - accuracy: 0.4553 - val_loss: 16.4819 - val_root_mean_squared_error: 4.0598 - val_accuracy: 0.5600\n",
            "Epoch 69/200\n",
            "500/500 [==============================] - 3s 6ms/step - loss: 2.6880 - root_mean_squared_error: 1.6395 - accuracy: 0.4540 - val_loss: 14.3685 - val_root_mean_squared_error: 3.7906 - val_accuracy: 0.5650\n",
            "Epoch 70/200\n",
            "500/500 [==============================] - 3s 6ms/step - loss: 2.3379 - root_mean_squared_error: 1.5290 - accuracy: 0.4547 - val_loss: 15.1724 - val_root_mean_squared_error: 3.8952 - val_accuracy: 0.5700\n",
            "Epoch 71/200\n",
            "500/500 [==============================] - 3s 6ms/step - loss: 2.3964 - root_mean_squared_error: 1.5480 - accuracy: 0.4537 - val_loss: 13.4911 - val_root_mean_squared_error: 3.6730 - val_accuracy: 0.5850\n",
            "Epoch 72/200\n",
            "500/500 [==============================] - 3s 6ms/step - loss: 2.3238 - root_mean_squared_error: 1.5244 - accuracy: 0.4553 - val_loss: 15.7794 - val_root_mean_squared_error: 3.9723 - val_accuracy: 0.5750\n",
            "Epoch 73/200\n",
            "500/500 [==============================] - 3s 6ms/step - loss: 2.2150 - root_mean_squared_error: 1.4883 - accuracy: 0.4553 - val_loss: 14.8578 - val_root_mean_squared_error: 3.8546 - val_accuracy: 0.5700\n",
            "Epoch 74/200\n",
            "500/500 [==============================] - 3s 6ms/step - loss: 2.2455 - root_mean_squared_error: 1.4985 - accuracy: 0.4533 - val_loss: 14.3609 - val_root_mean_squared_error: 3.7896 - val_accuracy: 0.5650\n",
            "Epoch 75/200\n",
            "500/500 [==============================] - 3s 6ms/step - loss: 2.7132 - root_mean_squared_error: 1.6472 - accuracy: 0.4537 - val_loss: 14.1169 - val_root_mean_squared_error: 3.7572 - val_accuracy: 0.5750\n",
            "Epoch 76/200\n",
            "500/500 [==============================] - 3s 6ms/step - loss: 1.9488 - root_mean_squared_error: 1.3960 - accuracy: 0.4560 - val_loss: 14.8397 - val_root_mean_squared_error: 3.8522 - val_accuracy: 0.5600\n",
            "Epoch 77/200\n",
            "500/500 [==============================] - 3s 6ms/step - loss: 1.8437 - root_mean_squared_error: 1.3578 - accuracy: 0.4557 - val_loss: 16.9136 - val_root_mean_squared_error: 4.1126 - val_accuracy: 0.5700\n",
            "Epoch 78/200\n",
            "500/500 [==============================] - 3s 6ms/step - loss: 1.9473 - root_mean_squared_error: 1.3955 - accuracy: 0.4560 - val_loss: 17.9576 - val_root_mean_squared_error: 4.2376 - val_accuracy: 0.5600\n",
            "Epoch 79/200\n",
            "500/500 [==============================] - 3s 6ms/step - loss: 1.7983 - root_mean_squared_error: 1.3410 - accuracy: 0.4540 - val_loss: 15.4694 - val_root_mean_squared_error: 3.9331 - val_accuracy: 0.5700\n",
            "Epoch 80/200\n",
            "500/500 [==============================] - 3s 6ms/step - loss: 1.6275 - root_mean_squared_error: 1.2757 - accuracy: 0.4563 - val_loss: 16.3188 - val_root_mean_squared_error: 4.0397 - val_accuracy: 0.5750\n",
            "Epoch 81/200\n",
            "500/500 [==============================] - 3s 6ms/step - loss: 1.5729 - root_mean_squared_error: 1.2541 - accuracy: 0.4560 - val_loss: 17.2560 - val_root_mean_squared_error: 4.1540 - val_accuracy: 0.5700\n",
            "Epoch 82/200\n",
            "500/500 [==============================] - 3s 6ms/step - loss: 1.9537 - root_mean_squared_error: 1.3978 - accuracy: 0.4547 - val_loss: 15.3547 - val_root_mean_squared_error: 3.9185 - val_accuracy: 0.5700\n",
            "Epoch 83/200\n",
            "500/500 [==============================] - 3s 6ms/step - loss: 2.0292 - root_mean_squared_error: 1.4245 - accuracy: 0.4543 - val_loss: 15.1442 - val_root_mean_squared_error: 3.8916 - val_accuracy: 0.5650\n",
            "Epoch 84/200\n",
            "500/500 [==============================] - 3s 6ms/step - loss: 1.3306 - root_mean_squared_error: 1.1535 - accuracy: 0.4560 - val_loss: 15.3594 - val_root_mean_squared_error: 3.9191 - val_accuracy: 0.5750\n",
            "Epoch 85/200\n",
            "500/500 [==============================] - 3s 6ms/step - loss: 1.1581 - root_mean_squared_error: 1.0762 - accuracy: 0.4540 - val_loss: 15.2710 - val_root_mean_squared_error: 3.9078 - val_accuracy: 0.5600\n",
            "Epoch 86/200\n",
            "500/500 [==============================] - 3s 6ms/step - loss: 1.4428 - root_mean_squared_error: 1.2012 - accuracy: 0.4553 - val_loss: 15.6277 - val_root_mean_squared_error: 3.9532 - val_accuracy: 0.5500\n",
            "Epoch 87/200\n",
            "500/500 [==============================] - 3s 6ms/step - loss: 1.4798 - root_mean_squared_error: 1.2165 - accuracy: 0.4563 - val_loss: 15.4596 - val_root_mean_squared_error: 3.9319 - val_accuracy: 0.5600\n",
            "Epoch 88/200\n",
            "500/500 [==============================] - 3s 6ms/step - loss: 1.0880 - root_mean_squared_error: 1.0431 - accuracy: 0.4577 - val_loss: 15.5256 - val_root_mean_squared_error: 3.9403 - val_accuracy: 0.5650\n",
            "Epoch 89/200\n",
            "500/500 [==============================] - 3s 6ms/step - loss: 1.0430 - root_mean_squared_error: 1.0213 - accuracy: 0.4547 - val_loss: 14.6753 - val_root_mean_squared_error: 3.8308 - val_accuracy: 0.5650\n",
            "Epoch 90/200\n",
            "500/500 [==============================] - 3s 6ms/step - loss: 0.9054 - root_mean_squared_error: 0.9515 - accuracy: 0.4577 - val_loss: 15.8745 - val_root_mean_squared_error: 3.9843 - val_accuracy: 0.5650\n",
            "Epoch 91/200\n",
            "500/500 [==============================] - 3s 6ms/step - loss: 1.3514 - root_mean_squared_error: 1.1625 - accuracy: 0.4570 - val_loss: 15.7522 - val_root_mean_squared_error: 3.9689 - val_accuracy: 0.5700\n",
            "Epoch 92/200\n",
            "500/500 [==============================] - 3s 6ms/step - loss: 2.2355 - root_mean_squared_error: 1.4951 - accuracy: 0.4550 - val_loss: 15.8389 - val_root_mean_squared_error: 3.9798 - val_accuracy: 0.5650\n",
            "Epoch 93/200\n",
            "500/500 [==============================] - 3s 6ms/step - loss: 2.8501 - root_mean_squared_error: 1.6882 - accuracy: 0.4553 - val_loss: 15.7699 - val_root_mean_squared_error: 3.9711 - val_accuracy: 0.5700\n",
            "Epoch 94/200\n",
            "500/500 [==============================] - 3s 6ms/step - loss: 1.4780 - root_mean_squared_error: 1.2157 - accuracy: 0.4550 - val_loss: 15.9397 - val_root_mean_squared_error: 3.9925 - val_accuracy: 0.5700\n",
            "Epoch 95/200\n",
            "500/500 [==============================] - 3s 6ms/step - loss: 0.7767 - root_mean_squared_error: 0.8813 - accuracy: 0.4553 - val_loss: 15.8731 - val_root_mean_squared_error: 3.9841 - val_accuracy: 0.5700\n",
            "Epoch 96/200\n",
            "500/500 [==============================] - 3s 6ms/step - loss: 0.5895 - root_mean_squared_error: 0.7678 - accuracy: 0.4570 - val_loss: 16.4527 - val_root_mean_squared_error: 4.0562 - val_accuracy: 0.5650\n",
            "Epoch 97/200\n",
            "500/500 [==============================] - 3s 6ms/step - loss: 0.5661 - root_mean_squared_error: 0.7524 - accuracy: 0.4563 - val_loss: 16.5715 - val_root_mean_squared_error: 4.0708 - val_accuracy: 0.5600\n",
            "Epoch 98/200\n",
            "500/500 [==============================] - 3s 6ms/step - loss: 0.6088 - root_mean_squared_error: 0.7802 - accuracy: 0.4570 - val_loss: 16.2415 - val_root_mean_squared_error: 4.0301 - val_accuracy: 0.5600\n",
            "Epoch 99/200\n",
            "500/500 [==============================] - 3s 6ms/step - loss: 0.6895 - root_mean_squared_error: 0.8303 - accuracy: 0.4570 - val_loss: 15.9151 - val_root_mean_squared_error: 3.9894 - val_accuracy: 0.5650\n",
            "Epoch 100/200\n",
            "500/500 [==============================] - 3s 6ms/step - loss: 0.7607 - root_mean_squared_error: 0.8722 - accuracy: 0.4573 - val_loss: 15.2786 - val_root_mean_squared_error: 3.9088 - val_accuracy: 0.5600\n",
            "Epoch 101/200\n",
            "500/500 [==============================] - 3s 6ms/step - loss: 1.1206 - root_mean_squared_error: 1.0586 - accuracy: 0.4567 - val_loss: 17.0286 - val_root_mean_squared_error: 4.1266 - val_accuracy: 0.5600\n",
            "Epoch 102/200\n",
            "500/500 [==============================] - 3s 6ms/step - loss: 1.2273 - root_mean_squared_error: 1.1079 - accuracy: 0.4567 - val_loss: 18.5824 - val_root_mean_squared_error: 4.3107 - val_accuracy: 0.5600\n",
            "Epoch 103/200\n",
            "500/500 [==============================] - 3s 6ms/step - loss: 0.8513 - root_mean_squared_error: 0.9227 - accuracy: 0.4577 - val_loss: 15.8242 - val_root_mean_squared_error: 3.9780 - val_accuracy: 0.5600\n",
            "Epoch 104/200\n",
            "500/500 [==============================] - 3s 6ms/step - loss: 0.5433 - root_mean_squared_error: 0.7371 - accuracy: 0.4570 - val_loss: 16.6999 - val_root_mean_squared_error: 4.0866 - val_accuracy: 0.5600\n",
            "Epoch 105/200\n",
            "500/500 [==============================] - 3s 6ms/step - loss: 0.5211 - root_mean_squared_error: 0.7219 - accuracy: 0.4577 - val_loss: 15.9950 - val_root_mean_squared_error: 3.9994 - val_accuracy: 0.5550\n",
            "Epoch 106/200\n",
            "500/500 [==============================] - 3s 6ms/step - loss: 0.5483 - root_mean_squared_error: 0.7404 - accuracy: 0.4580 - val_loss: 16.0339 - val_root_mean_squared_error: 4.0042 - val_accuracy: 0.5600\n",
            "Epoch 107/200\n",
            "500/500 [==============================] - 3s 6ms/step - loss: 0.6614 - root_mean_squared_error: 0.8133 - accuracy: 0.4580 - val_loss: 17.2932 - val_root_mean_squared_error: 4.1585 - val_accuracy: 0.5700\n",
            "Epoch 108/200\n",
            "500/500 [==============================] - 3s 6ms/step - loss: 0.8057 - root_mean_squared_error: 0.8976 - accuracy: 0.4570 - val_loss: 17.3075 - val_root_mean_squared_error: 4.1602 - val_accuracy: 0.5500\n",
            "Epoch 109/200\n",
            "500/500 [==============================] - 3s 6ms/step - loss: 0.5084 - root_mean_squared_error: 0.7130 - accuracy: 0.4563 - val_loss: 17.2207 - val_root_mean_squared_error: 4.1498 - val_accuracy: 0.5550\n",
            "Epoch 110/200\n",
            "500/500 [==============================] - 3s 6ms/step - loss: 0.4130 - root_mean_squared_error: 0.6427 - accuracy: 0.4580 - val_loss: 15.9656 - val_root_mean_squared_error: 3.9957 - val_accuracy: 0.5600\n",
            "Epoch 111/200\n",
            "500/500 [==============================] - 3s 6ms/step - loss: 0.6485 - root_mean_squared_error: 0.8053 - accuracy: 0.4577 - val_loss: 16.6324 - val_root_mean_squared_error: 4.0783 - val_accuracy: 0.5600\n",
            "Epoch 112/200\n",
            "500/500 [==============================] - 3s 6ms/step - loss: 0.8075 - root_mean_squared_error: 0.8986 - accuracy: 0.4557 - val_loss: 15.5076 - val_root_mean_squared_error: 3.9380 - val_accuracy: 0.5550\n",
            "Epoch 113/200\n",
            "500/500 [==============================] - 3s 6ms/step - loss: 0.5921 - root_mean_squared_error: 0.7695 - accuracy: 0.4560 - val_loss: 15.0731 - val_root_mean_squared_error: 3.8824 - val_accuracy: 0.5600\n",
            "Epoch 114/200\n",
            "500/500 [==============================] - 3s 6ms/step - loss: 0.4858 - root_mean_squared_error: 0.6970 - accuracy: 0.4570 - val_loss: 15.7659 - val_root_mean_squared_error: 3.9706 - val_accuracy: 0.5600\n",
            "Epoch 115/200\n",
            "500/500 [==============================] - 3s 6ms/step - loss: 0.4518 - root_mean_squared_error: 0.6722 - accuracy: 0.4573 - val_loss: 15.5822 - val_root_mean_squared_error: 3.9474 - val_accuracy: 0.5550\n",
            "Epoch 116/200\n",
            "500/500 [==============================] - 3s 6ms/step - loss: 0.4423 - root_mean_squared_error: 0.6651 - accuracy: 0.4580 - val_loss: 16.4481 - val_root_mean_squared_error: 4.0556 - val_accuracy: 0.5650\n",
            "Epoch 117/200\n",
            "500/500 [==============================] - 3s 6ms/step - loss: 0.8635 - root_mean_squared_error: 0.9292 - accuracy: 0.4577 - val_loss: 16.2850 - val_root_mean_squared_error: 4.0355 - val_accuracy: 0.5600\n",
            "Epoch 118/200\n",
            "500/500 [==============================] - 3s 6ms/step - loss: 1.6668 - root_mean_squared_error: 1.2910 - accuracy: 0.4570 - val_loss: 17.1206 - val_root_mean_squared_error: 4.1377 - val_accuracy: 0.5550\n",
            "Epoch 119/200\n",
            "500/500 [==============================] - 3s 6ms/step - loss: 1.1590 - root_mean_squared_error: 1.0766 - accuracy: 0.4573 - val_loss: 15.7431 - val_root_mean_squared_error: 3.9678 - val_accuracy: 0.5600\n",
            "Epoch 120/200\n",
            "500/500 [==============================] - 3s 6ms/step - loss: 0.6681 - root_mean_squared_error: 0.8174 - accuracy: 0.4580 - val_loss: 16.0617 - val_root_mean_squared_error: 4.0077 - val_accuracy: 0.5600\n",
            "Epoch 121/200\n",
            "500/500 [==============================] - 3s 6ms/step - loss: 0.3452 - root_mean_squared_error: 0.5876 - accuracy: 0.4587 - val_loss: 16.4165 - val_root_mean_squared_error: 4.0517 - val_accuracy: 0.5550\n",
            "Epoch 122/200\n",
            "500/500 [==============================] - 3s 6ms/step - loss: 0.2436 - root_mean_squared_error: 0.4936 - accuracy: 0.4603 - val_loss: 16.4486 - val_root_mean_squared_error: 4.0557 - val_accuracy: 0.5450\n",
            "Epoch 123/200\n",
            "500/500 [==============================] - 3s 6ms/step - loss: 0.2328 - root_mean_squared_error: 0.4825 - accuracy: 0.4583 - val_loss: 16.8424 - val_root_mean_squared_error: 4.1040 - val_accuracy: 0.5450\n",
            "Epoch 124/200\n",
            "500/500 [==============================] - 3s 6ms/step - loss: 0.2702 - root_mean_squared_error: 0.5198 - accuracy: 0.4587 - val_loss: 15.6841 - val_root_mean_squared_error: 3.9603 - val_accuracy: 0.5500\n",
            "Epoch 125/200\n",
            "500/500 [==============================] - 3s 6ms/step - loss: 0.3777 - root_mean_squared_error: 0.6146 - accuracy: 0.4590 - val_loss: 16.8077 - val_root_mean_squared_error: 4.0997 - val_accuracy: 0.5600\n",
            "Epoch 126/200\n",
            "500/500 [==============================] - 3s 6ms/step - loss: 0.5640 - root_mean_squared_error: 0.7510 - accuracy: 0.4583 - val_loss: 16.2137 - val_root_mean_squared_error: 4.0266 - val_accuracy: 0.5550\n",
            "Epoch 127/200\n",
            "500/500 [==============================] - 3s 6ms/step - loss: 0.5767 - root_mean_squared_error: 0.7594 - accuracy: 0.4593 - val_loss: 16.1890 - val_root_mean_squared_error: 4.0236 - val_accuracy: 0.5550\n",
            "Epoch 128/200\n",
            "500/500 [==============================] - 3s 6ms/step - loss: 0.3410 - root_mean_squared_error: 0.5840 - accuracy: 0.4597 - val_loss: 16.0890 - val_root_mean_squared_error: 4.0111 - val_accuracy: 0.5450\n",
            "Epoch 129/200\n",
            "500/500 [==============================] - 3s 6ms/step - loss: 0.3403 - root_mean_squared_error: 0.5834 - accuracy: 0.4603 - val_loss: 16.2528 - val_root_mean_squared_error: 4.0315 - val_accuracy: 0.5650\n",
            "Epoch 130/200\n",
            "500/500 [==============================] - 3s 6ms/step - loss: 0.3033 - root_mean_squared_error: 0.5507 - accuracy: 0.4583 - val_loss: 15.9895 - val_root_mean_squared_error: 3.9987 - val_accuracy: 0.5500\n",
            "Epoch 131/200\n",
            "500/500 [==============================] - 3s 6ms/step - loss: 0.5446 - root_mean_squared_error: 0.7380 - accuracy: 0.4583 - val_loss: 16.2238 - val_root_mean_squared_error: 4.0279 - val_accuracy: 0.5650\n",
            "Epoch 132/200\n",
            "500/500 [==============================] - 3s 6ms/step - loss: 0.3810 - root_mean_squared_error: 0.6173 - accuracy: 0.4597 - val_loss: 15.9532 - val_root_mean_squared_error: 3.9941 - val_accuracy: 0.5550\n",
            "Epoch 133/200\n",
            "500/500 [==============================] - 3s 6ms/step - loss: 0.3320 - root_mean_squared_error: 0.5762 - accuracy: 0.4600 - val_loss: 15.8325 - val_root_mean_squared_error: 3.9790 - val_accuracy: 0.5650\n",
            "Epoch 134/200\n",
            "500/500 [==============================] - 3s 6ms/step - loss: 0.2728 - root_mean_squared_error: 0.5223 - accuracy: 0.4593 - val_loss: 15.3407 - val_root_mean_squared_error: 3.9167 - val_accuracy: 0.5600\n",
            "Epoch 135/200\n",
            "500/500 [==============================] - 3s 6ms/step - loss: 0.2807 - root_mean_squared_error: 0.5298 - accuracy: 0.4593 - val_loss: 14.7766 - val_root_mean_squared_error: 3.8440 - val_accuracy: 0.5700\n",
            "Epoch 136/200\n",
            "500/500 [==============================] - 3s 6ms/step - loss: 0.3224 - root_mean_squared_error: 0.5678 - accuracy: 0.4597 - val_loss: 16.3328 - val_root_mean_squared_error: 4.0414 - val_accuracy: 0.5550\n",
            "Epoch 137/200\n",
            "500/500 [==============================] - 3s 6ms/step - loss: 0.5148 - root_mean_squared_error: 0.7175 - accuracy: 0.4597 - val_loss: 14.9738 - val_root_mean_squared_error: 3.8696 - val_accuracy: 0.5700\n",
            "Epoch 138/200\n",
            "500/500 [==============================] - 3s 6ms/step - loss: 0.4549 - root_mean_squared_error: 0.6744 - accuracy: 0.4597 - val_loss: 15.2503 - val_root_mean_squared_error: 3.9052 - val_accuracy: 0.5550\n",
            "Epoch 139/200\n",
            "500/500 [==============================] - 3s 6ms/step - loss: 0.3373 - root_mean_squared_error: 0.5808 - accuracy: 0.4607 - val_loss: 15.9599 - val_root_mean_squared_error: 3.9950 - val_accuracy: 0.5550\n",
            "Epoch 140/200\n",
            "500/500 [==============================] - 3s 6ms/step - loss: 0.2742 - root_mean_squared_error: 0.5237 - accuracy: 0.4603 - val_loss: 15.3578 - val_root_mean_squared_error: 3.9189 - val_accuracy: 0.5600\n",
            "Epoch 141/200\n",
            "500/500 [==============================] - 3s 6ms/step - loss: 0.2757 - root_mean_squared_error: 0.5251 - accuracy: 0.4603 - val_loss: 14.8586 - val_root_mean_squared_error: 3.8547 - val_accuracy: 0.5500\n",
            "Epoch 142/200\n",
            "500/500 [==============================] - 3s 6ms/step - loss: 0.3075 - root_mean_squared_error: 0.5546 - accuracy: 0.4603 - val_loss: 15.3625 - val_root_mean_squared_error: 3.9195 - val_accuracy: 0.5550\n",
            "Epoch 143/200\n",
            "500/500 [==============================] - 3s 6ms/step - loss: 0.3646 - root_mean_squared_error: 0.6038 - accuracy: 0.4587 - val_loss: 13.6443 - val_root_mean_squared_error: 3.6938 - val_accuracy: 0.5500\n",
            "Epoch 144/200\n",
            "500/500 [==============================] - 3s 6ms/step - loss: 0.5422 - root_mean_squared_error: 0.7364 - accuracy: 0.4593 - val_loss: 15.4760 - val_root_mean_squared_error: 3.9340 - val_accuracy: 0.5450\n",
            "Epoch 145/200\n",
            "500/500 [==============================] - 3s 6ms/step - loss: 0.3470 - root_mean_squared_error: 0.5891 - accuracy: 0.4597 - val_loss: 14.5267 - val_root_mean_squared_error: 3.8114 - val_accuracy: 0.5400\n",
            "Epoch 146/200\n",
            "500/500 [==============================] - 3s 6ms/step - loss: 0.2427 - root_mean_squared_error: 0.4926 - accuracy: 0.4607 - val_loss: 15.4634 - val_root_mean_squared_error: 3.9324 - val_accuracy: 0.5500\n",
            "Epoch 147/200\n",
            "500/500 [==============================] - 3s 6ms/step - loss: 0.2041 - root_mean_squared_error: 0.4518 - accuracy: 0.4613 - val_loss: 15.1832 - val_root_mean_squared_error: 3.8966 - val_accuracy: 0.5550\n",
            "Epoch 148/200\n",
            "500/500 [==============================] - 3s 6ms/step - loss: 0.1969 - root_mean_squared_error: 0.4437 - accuracy: 0.4610 - val_loss: 15.1323 - val_root_mean_squared_error: 3.8900 - val_accuracy: 0.5500\n",
            "Epoch 149/200\n",
            "500/500 [==============================] - 3s 6ms/step - loss: 0.2470 - root_mean_squared_error: 0.4970 - accuracy: 0.4580 - val_loss: 14.9476 - val_root_mean_squared_error: 3.8662 - val_accuracy: 0.5600\n",
            "Epoch 150/200\n",
            "500/500 [==============================] - 3s 6ms/step - loss: 0.2516 - root_mean_squared_error: 0.5016 - accuracy: 0.4600 - val_loss: 15.5144 - val_root_mean_squared_error: 3.9388 - val_accuracy: 0.5600\n",
            "Epoch 151/200\n",
            "500/500 [==============================] - 3s 6ms/step - loss: 0.3941 - root_mean_squared_error: 0.6278 - accuracy: 0.4600 - val_loss: 14.8057 - val_root_mean_squared_error: 3.8478 - val_accuracy: 0.5550\n",
            "Epoch 152/200\n",
            "500/500 [==============================] - 3s 6ms/step - loss: 0.3700 - root_mean_squared_error: 0.6082 - accuracy: 0.4600 - val_loss: 14.9294 - val_root_mean_squared_error: 3.8639 - val_accuracy: 0.5500\n",
            "Epoch 153/200\n",
            "500/500 [==============================] - 3s 6ms/step - loss: 0.2777 - root_mean_squared_error: 0.5269 - accuracy: 0.4603 - val_loss: 14.1333 - val_root_mean_squared_error: 3.7594 - val_accuracy: 0.5500\n",
            "Epoch 154/200\n",
            "500/500 [==============================] - 3s 6ms/step - loss: 0.2466 - root_mean_squared_error: 0.4966 - accuracy: 0.4620 - val_loss: 14.4203 - val_root_mean_squared_error: 3.7974 - val_accuracy: 0.5500\n",
            "Epoch 155/200\n",
            "500/500 [==============================] - 3s 6ms/step - loss: 0.2593 - root_mean_squared_error: 0.5092 - accuracy: 0.4610 - val_loss: 14.7808 - val_root_mean_squared_error: 3.8446 - val_accuracy: 0.5600\n",
            "Epoch 156/200\n",
            "500/500 [==============================] - 3s 6ms/step - loss: 0.2349 - root_mean_squared_error: 0.4847 - accuracy: 0.4617 - val_loss: 14.4634 - val_root_mean_squared_error: 3.8031 - val_accuracy: 0.5500\n",
            "Epoch 157/200\n",
            "500/500 [==============================] - 3s 6ms/step - loss: 0.2598 - root_mean_squared_error: 0.5097 - accuracy: 0.4617 - val_loss: 14.7250 - val_root_mean_squared_error: 3.8373 - val_accuracy: 0.5550\n",
            "Epoch 158/200\n",
            "500/500 [==============================] - 3s 6ms/step - loss: 0.3761 - root_mean_squared_error: 0.6132 - accuracy: 0.4593 - val_loss: 13.9965 - val_root_mean_squared_error: 3.7412 - val_accuracy: 0.5500\n",
            "Epoch 159/200\n",
            "500/500 [==============================] - 3s 6ms/step - loss: 0.6253 - root_mean_squared_error: 0.7908 - accuracy: 0.4603 - val_loss: 15.4062 - val_root_mean_squared_error: 3.9251 - val_accuracy: 0.5400\n",
            "Epoch 160/200\n",
            "500/500 [==============================] - 3s 6ms/step - loss: 0.2234 - root_mean_squared_error: 0.4726 - accuracy: 0.4620 - val_loss: 15.3435 - val_root_mean_squared_error: 3.9171 - val_accuracy: 0.5550\n",
            "Epoch 161/200\n",
            "500/500 [==============================] - 3s 6ms/step - loss: 0.1381 - root_mean_squared_error: 0.3717 - accuracy: 0.4607 - val_loss: 14.7304 - val_root_mean_squared_error: 3.8380 - val_accuracy: 0.5400\n",
            "Epoch 162/200\n",
            "500/500 [==============================] - 3s 6ms/step - loss: 0.1112 - root_mean_squared_error: 0.3335 - accuracy: 0.4610 - val_loss: 15.3102 - val_root_mean_squared_error: 3.9128 - val_accuracy: 0.5400\n",
            "Epoch 163/200\n",
            "500/500 [==============================] - 3s 6ms/step - loss: 0.1230 - root_mean_squared_error: 0.3507 - accuracy: 0.4613 - val_loss: 14.7245 - val_root_mean_squared_error: 3.8373 - val_accuracy: 0.5500\n",
            "Epoch 164/200\n",
            "500/500 [==============================] - 3s 6ms/step - loss: 0.1866 - root_mean_squared_error: 0.4320 - accuracy: 0.4620 - val_loss: 15.4237 - val_root_mean_squared_error: 3.9273 - val_accuracy: 0.5600\n",
            "Epoch 165/200\n",
            "500/500 [==============================] - 3s 6ms/step - loss: 0.2759 - root_mean_squared_error: 0.5253 - accuracy: 0.4607 - val_loss: 15.2805 - val_root_mean_squared_error: 3.9090 - val_accuracy: 0.5500\n",
            "Epoch 166/200\n",
            "500/500 [==============================] - 3s 6ms/step - loss: 0.2846 - root_mean_squared_error: 0.5335 - accuracy: 0.4617 - val_loss: 14.6985 - val_root_mean_squared_error: 3.8339 - val_accuracy: 0.5600\n",
            "Epoch 167/200\n",
            "500/500 [==============================] - 3s 6ms/step - loss: 0.2926 - root_mean_squared_error: 0.5409 - accuracy: 0.4607 - val_loss: 14.7039 - val_root_mean_squared_error: 3.8346 - val_accuracy: 0.5500\n",
            "Epoch 168/200\n",
            "500/500 [==============================] - 3s 6ms/step - loss: 0.6126 - root_mean_squared_error: 0.7827 - accuracy: 0.4617 - val_loss: 15.9359 - val_root_mean_squared_error: 3.9920 - val_accuracy: 0.5500\n",
            "Epoch 169/200\n",
            "500/500 [==============================] - 3s 6ms/step - loss: 0.5391 - root_mean_squared_error: 0.7342 - accuracy: 0.4603 - val_loss: 14.7975 - val_root_mean_squared_error: 3.8468 - val_accuracy: 0.5450\n",
            "Epoch 170/200\n",
            "500/500 [==============================] - 3s 6ms/step - loss: 0.1906 - root_mean_squared_error: 0.4366 - accuracy: 0.4613 - val_loss: 14.7709 - val_root_mean_squared_error: 3.8433 - val_accuracy: 0.5550\n",
            "Epoch 171/200\n",
            "500/500 [==============================] - 3s 6ms/step - loss: 0.1150 - root_mean_squared_error: 0.3391 - accuracy: 0.4623 - val_loss: 14.2932 - val_root_mean_squared_error: 3.7806 - val_accuracy: 0.5500\n",
            "Epoch 172/200\n",
            "500/500 [==============================] - 3s 6ms/step - loss: 0.0918 - root_mean_squared_error: 0.3031 - accuracy: 0.4633 - val_loss: 14.6544 - val_root_mean_squared_error: 3.8281 - val_accuracy: 0.5600\n",
            "Epoch 173/200\n",
            "500/500 [==============================] - 3s 6ms/step - loss: 0.1127 - root_mean_squared_error: 0.3357 - accuracy: 0.4623 - val_loss: 14.4411 - val_root_mean_squared_error: 3.8001 - val_accuracy: 0.5600\n",
            "Epoch 174/200\n",
            "500/500 [==============================] - 3s 6ms/step - loss: 0.1587 - root_mean_squared_error: 0.3984 - accuracy: 0.4627 - val_loss: 14.6057 - val_root_mean_squared_error: 3.8217 - val_accuracy: 0.5500\n",
            "Epoch 175/200\n",
            "500/500 [==============================] - 3s 6ms/step - loss: 0.3014 - root_mean_squared_error: 0.5490 - accuracy: 0.4613 - val_loss: 14.8855 - val_root_mean_squared_error: 3.8582 - val_accuracy: 0.5550\n",
            "Epoch 176/200\n",
            "500/500 [==============================] - 3s 6ms/step - loss: 0.2963 - root_mean_squared_error: 0.5444 - accuracy: 0.4613 - val_loss: 14.7424 - val_root_mean_squared_error: 3.8396 - val_accuracy: 0.5600\n",
            "Epoch 177/200\n",
            "500/500 [==============================] - 3s 6ms/step - loss: 0.2317 - root_mean_squared_error: 0.4814 - accuracy: 0.4613 - val_loss: 14.7232 - val_root_mean_squared_error: 3.8371 - val_accuracy: 0.5650\n",
            "Epoch 178/200\n",
            "500/500 [==============================] - 3s 6ms/step - loss: 0.2272 - root_mean_squared_error: 0.4767 - accuracy: 0.4597 - val_loss: 14.7143 - val_root_mean_squared_error: 3.8359 - val_accuracy: 0.5500\n",
            "Epoch 179/200\n",
            "500/500 [==============================] - 3s 6ms/step - loss: 0.1801 - root_mean_squared_error: 0.4244 - accuracy: 0.4620 - val_loss: 15.1963 - val_root_mean_squared_error: 3.8982 - val_accuracy: 0.5500\n",
            "Epoch 180/200\n",
            "500/500 [==============================] - 3s 6ms/step - loss: 0.1924 - root_mean_squared_error: 0.4387 - accuracy: 0.4607 - val_loss: 14.4473 - val_root_mean_squared_error: 3.8010 - val_accuracy: 0.5500\n",
            "Epoch 181/200\n",
            "500/500 [==============================] - 3s 6ms/step - loss: 0.3816 - root_mean_squared_error: 0.6177 - accuracy: 0.4607 - val_loss: 14.8400 - val_root_mean_squared_error: 3.8523 - val_accuracy: 0.5500\n",
            "Epoch 182/200\n",
            "500/500 [==============================] - 3s 6ms/step - loss: 0.1441 - root_mean_squared_error: 0.3797 - accuracy: 0.4617 - val_loss: 14.4222 - val_root_mean_squared_error: 3.7977 - val_accuracy: 0.5600\n",
            "Epoch 184/200\n",
            "500/500 [==============================] - 3s 6ms/step - loss: 0.1400 - root_mean_squared_error: 0.3742 - accuracy: 0.4617 - val_loss: 14.3041 - val_root_mean_squared_error: 3.7821 - val_accuracy: 0.5600\n",
            "Epoch 185/200\n",
            "500/500 [==============================] - 3s 6ms/step - loss: 0.1847 - root_mean_squared_error: 0.4297 - accuracy: 0.4607 - val_loss: 14.7720 - val_root_mean_squared_error: 3.8434 - val_accuracy: 0.5600\n",
            "Epoch 186/200\n",
            "500/500 [==============================] - 3s 6ms/step - loss: 0.2308 - root_mean_squared_error: 0.4804 - accuracy: 0.4613 - val_loss: 15.2373 - val_root_mean_squared_error: 3.9035 - val_accuracy: 0.5650\n",
            "Epoch 187/200\n",
            "500/500 [==============================] - 3s 6ms/step - loss: 0.2583 - root_mean_squared_error: 0.5083 - accuracy: 0.4610 - val_loss: 14.9675 - val_root_mean_squared_error: 3.8688 - val_accuracy: 0.5500\n",
            "Epoch 188/200\n",
            "500/500 [==============================] - 3s 6ms/step - loss: 0.2361 - root_mean_squared_error: 0.4859 - accuracy: 0.4600 - val_loss: 14.1575 - val_root_mean_squared_error: 3.7627 - val_accuracy: 0.5650\n",
            "Epoch 189/200\n",
            "500/500 [==============================] - 3s 6ms/step - loss: 0.2115 - root_mean_squared_error: 0.4599 - accuracy: 0.4627 - val_loss: 15.2334 - val_root_mean_squared_error: 3.9030 - val_accuracy: 0.5400\n",
            "Epoch 190/200\n",
            "500/500 [==============================] - 3s 6ms/step - loss: 0.1605 - root_mean_squared_error: 0.4006 - accuracy: 0.4617 - val_loss: 15.6343 - val_root_mean_squared_error: 3.9540 - val_accuracy: 0.5550\n",
            "Epoch 191/200\n",
            "500/500 [==============================] - 3s 6ms/step - loss: 0.1767 - root_mean_squared_error: 0.4203 - accuracy: 0.4613 - val_loss: 14.5961 - val_root_mean_squared_error: 3.8205 - val_accuracy: 0.5650\n",
            "Epoch 192/200\n",
            "500/500 [==============================] - 3s 6ms/step - loss: 0.2262 - root_mean_squared_error: 0.4756 - accuracy: 0.4633 - val_loss: 15.7040 - val_root_mean_squared_error: 3.9628 - val_accuracy: 0.5500\n",
            "Epoch 193/200\n",
            "500/500 [==============================] - 3s 6ms/step - loss: 0.1802 - root_mean_squared_error: 0.4245 - accuracy: 0.4610 - val_loss: 14.7168 - val_root_mean_squared_error: 3.8362 - val_accuracy: 0.5550\n",
            "Epoch 194/200\n",
            "500/500 [==============================] - 3s 6ms/step - loss: 0.1863 - root_mean_squared_error: 0.4316 - accuracy: 0.4630 - val_loss: 14.6970 - val_root_mean_squared_error: 3.8337 - val_accuracy: 0.5600\n",
            "Epoch 195/200\n",
            "500/500 [==============================] - 3s 6ms/step - loss: 0.2020 - root_mean_squared_error: 0.4495 - accuracy: 0.4633 - val_loss: 14.9479 - val_root_mean_squared_error: 3.8663 - val_accuracy: 0.5550\n",
            "Epoch 196/200\n",
            "500/500 [==============================] - 3s 6ms/step - loss: 0.2095 - root_mean_squared_error: 0.4577 - accuracy: 0.4627 - val_loss: 15.3021 - val_root_mean_squared_error: 3.9118 - val_accuracy: 0.5550\n",
            "Epoch 197/200\n",
            "500/500 [==============================] - 3s 6ms/step - loss: 0.1870 - root_mean_squared_error: 0.4324 - accuracy: 0.4630 - val_loss: 14.6916 - val_root_mean_squared_error: 3.8330 - val_accuracy: 0.5550\n",
            "Epoch 198/200\n",
            "500/500 [==============================] - 3s 6ms/step - loss: 0.1708 - root_mean_squared_error: 0.4133 - accuracy: 0.4623 - val_loss: 15.6606 - val_root_mean_squared_error: 3.9573 - val_accuracy: 0.5500\n",
            "Epoch 199/200\n",
            "500/500 [==============================] - 3s 6ms/step - loss: 0.1656 - root_mean_squared_error: 0.4069 - accuracy: 0.4637 - val_loss: 15.2433 - val_root_mean_squared_error: 3.9043 - val_accuracy: 0.5600\n",
            "Epoch 200/200\n",
            "500/500 [==============================] - 3s 6ms/step - loss: 0.1700 - root_mean_squared_error: 0.4123 - accuracy: 0.4633 - val_loss: 15.0840 - val_root_mean_squared_error: 3.8838 - val_accuracy: 0.5600\n"
          ]
        },
        {
          "output_type": "execute_result",
          "data": {
            "text/plain": [
              "<keras.callbacks.History at 0x7f579b4d9650>"
            ]
          },
          "metadata": {},
          "execution_count": 588
        }
      ]
    },
    {
      "cell_type": "code",
      "source": [
        "modelLoad = load_model('model/')\n",
        "results = modelLoad.evaluate(x_test, y_test)"
      ],
      "metadata": {
        "colab": {
          "base_uri": "https://localhost:8080/"
        },
        "id": "mFyU219W5R_e",
        "outputId": "0c922479-5217-4db2-ba8a-14771eee40ba"
      },
      "execution_count": null,
      "outputs": [
        {
          "output_type": "stream",
          "name": "stdout",
          "text": [
            "13/13 [==============================] - 0s 5ms/step - loss: nan - root_mean_squared_error: nan - accuracy: 0.5275\n"
          ]
        }
      ]
    },
    {
      "cell_type": "code",
      "source": [
        "trainPredictions = modelLoad.predict(x_train).flatten()\n",
        "tResults = pd.DataFrame(data={'Train Predications':trainPredictions, 'Actuals':y_train})"
      ],
      "metadata": {
        "id": "4nslX_jj5TfA"
      },
      "execution_count": null,
      "outputs": []
    },
    {
      "cell_type": "code",
      "source": [
        "plt.plot(tResults['Train Predications'][150:300])\n",
        "plt.plot(tResults['Actuals'][150:300])"
      ],
      "metadata": {
        "colab": {
          "base_uri": "https://localhost:8080/"
        },
        "id": "x0sO20uT5VDU",
        "outputId": "1fae0348-37c0-4aa3-cc8c-57283beedaed"
      },
      "execution_count": null,
      "outputs": [
        {
          "output_type": "execute_result",
          "data": {
            "text/plain": [
              "[<matplotlib.lines.Line2D at 0x7f57c7aa4a50>]"
            ]
          },
          "metadata": {},
          "execution_count": 591
        },
        {
          "output_type": "display_data",
          "data": {
            "text/plain": [
              "<Figure size 432x288 with 1 Axes>"
            ],
            "image/png": "[encoded data removed]"
          },
          "metadata": {
            "needs_background": "light"
          }
        }
      ]
    },
    {
      "cell_type": "code",
      "source": [
        "tResults"
      ],
      "metadata": {
        "colab": {
          "base_uri": "https://localhost:8080/",
          "height": 423
        },
        "id": "m6wBBlLW5WVD",
        "outputId": "ddb7488d-a29f-48ec-e348-97fb64623316"
      },
      "execution_count": null,
      "outputs": [
        {
          "output_type": "execute_result",
          "data": {
            "text/plain": [
              "      Train Predications  Actuals\n",
              "0               0.000041      0.0\n",
              "1               0.014522      0.0\n",
              "2              10.883048     12.0\n",
              "3              34.031948     34.8\n",
              "4              35.786896     33.9\n",
              "...                  ...      ...\n",
              "2995           24.042788     12.2\n",
              "2996           21.282963     22.9\n",
              "2997            7.656821      6.8\n",
              "2998            0.005341      0.0\n",
              "2999            0.000057      0.0\n",
              "\n",
              "[3000 rows x 2 columns]"
            ],
            "text/html": [
              "\n",
              "  <div id=\"df-439ae64c-e364-4350-895c-06a0fa0be228\">\n",
              "    <div class=\"colab-df-container\">\n",
              "      <div>\n",
              "<style scoped>\n",
              "    .dataframe tbody tr th:only-of-type {\n",
              "        vertical-align: middle;\n",
              "    }\n",
              "\n",
              "    .dataframe tbody tr th {\n",
              "        vertical-align: top;\n",
              "    }\n",
              "\n",
              "    .dataframe thead th {\n",
              "        text-align: right;\n",
              "    }\n",
              "</style>\n",
              "<table border=\"1\" class=\"dataframe\">\n",
              "  <thead>\n",
              "    <tr style=\"text-align: right;\">\n",
              "      <th></th>\n",
              "      <th>Train Predications</th>\n",
              "      <th>Actuals</th>\n",
              "    </tr>\n",
              "  </thead>\n",
              "  <tbody>\n",
              "    <tr>\n",
              "      <th>0</th>\n",
              "      <td>0.000041</td>\n",
              "      <td>0.0</td>\n",
              "    </tr>\n",
              "    <tr>\n",
              "      <th>1</th>\n",
              "      <td>0.014522</td>\n",
              "      <td>0.0</td>\n",
              "    </tr>\n",
              "    <tr>\n",
              "      <th>2</th>\n",
              "      <td>10.883048</td>\n",
              "      <td>12.0</td>\n",
              "    </tr>\n",
              "    <tr>\n",
              "      <th>3</th>\n",
              "      <td>34.031948</td>\n",
              "      <td>34.8</td>\n",
              "    </tr>\n",
              "    <tr>\n",
              "      <th>4</th>\n",
              "      <td>35.786896</td>\n",
              "      <td>33.9</td>\n",
              "    </tr>\n",
              "    <tr>\n",
              "      <th>...</th>\n",
              "      <td>...</td>\n",
              "      <td>...</td>\n",
              "    </tr>\n",
              "    <tr>\n",
              "      <th>2995</th>\n",
              "      <td>24.042788</td>\n",
              "      <td>12.2</td>\n",
              "    </tr>\n",
              "    <tr>\n",
              "      <th>2996</th>\n",
              "      <td>21.282963</td>\n",
              "      <td>22.9</td>\n",
              "    </tr>\n",
              "    <tr>\n",
              "      <th>2997</th>\n",
              "      <td>7.656821</td>\n",
              "      <td>6.8</td>\n",
              "    </tr>\n",
              "    <tr>\n",
              "      <th>2998</th>\n",
              "      <td>0.005341</td>\n",
              "      <td>0.0</td>\n",
              "    </tr>\n",
              "    <tr>\n",
              "      <th>2999</th>\n",
              "      <td>0.000057</td>\n",
              "      <td>0.0</td>\n",
              "    </tr>\n",
              "  </tbody>\n",
              "</table>\n",
              "<p>3000 rows × 2 columns</p>\n",
              "</div>\n",
              "      <button class=\"colab-df-convert\" onclick=\"convertToInteractive('df-439ae64c-e364-4350-895c-06a0fa0be228')\"\n",
              "              title=\"Convert this dataframe to an interactive table.\"\n",
              "              style=\"display:none;\">\n",
              "        \n",
              "  <svg xmlns=\"http://www.w3.org/2000/svg\" height=\"24px\"viewBox=\"0 0 24 24\"\n",
              "       width=\"24px\">\n",
              "    <path d=\"M0 0h24v24H0V0z\" fill=\"none\"/>\n",
              "    <path d=\"M18.56 5.44l.94 2.06.94-2.06 2.06-.94-2.06-.94-.94-2.06-.94 2.06-2.06.94zm-11 1L8.5 8.5l.94-2.06 2.06-.94-2.06-.94L8.5 2.5l-.94 2.06-2.06.94zm10 10l.94 2.06.94-2.06 2.06-.94-2.06-.94-.94-2.06-.94 2.06-2.06.94z\"/><path d=\"M17.41 7.96l-1.37-1.37c-.4-.4-.92-.59-1.43-.59-.52 0-1.04.2-1.43.59L10.3 9.45l-7.72 7.72c-.78.78-.78 2.05 0 2.83L4 21.41c.39.39.9.59 1.41.59.51 0 1.02-.2 1.41-.59l7.78-7.78 2.81-2.81c.8-.78.8-2.07 0-2.86zM5.41 20L4 18.59l7.72-7.72 1.47 1.35L5.41 20z\"/>\n",
              "  </svg>\n",
              "      </button>\n",
              "      \n",
              "  <style>\n",
              "    .colab-df-container {\n",
              "      display:flex;\n",
              "      flex-wrap:wrap;\n",
              "      gap: 12px;\n",
              "    }\n",
              "\n",
              "    .colab-df-convert {\n",
              "      background-color: #E8F0FE;\n",
              "      border: none;\n",
              "      border-radius: 50%;\n",
              "      cursor: pointer;\n",
              "      display: none;\n",
              "      fill: #1967D2;\n",
              "      height: 32px;\n",
              "      padding: 0 0 0 0;\n",
              "      width: 32px;\n",
              "    }\n",
              "\n",
              "    .colab-df-convert:hover {\n",
              "      background-color: #E2EBFA;\n",
              "      box-shadow: 0px 1px 2px rgba(60, 64, 67, 0.3), 0px 1px 3px 1px rgba(60, 64, 67, 0.15);\n",
              "      fill: #174EA6;\n",
              "    }\n",
              "\n",
              "    [theme=dark] .colab-df-convert {\n",
              "      background-color: #3B4455;\n",
              "      fill: #D2E3FC;\n",
              "    }\n",
              "\n",
              "    [theme=dark] .colab-df-convert:hover {\n",
              "      background-color: #434B5C;\n",
              "      box-shadow: 0px 1px 3px 1px rgba(0, 0, 0, 0.15);\n",
              "      filter: drop-shadow(0px 1px 2px rgba(0, 0, 0, 0.3));\n",
              "      fill: #FFFFFF;\n",
              "    }\n",
              "  </style>\n",
              "\n",
              "      <script>\n",
              "        const buttonEl =\n",
              "          document.querySelector('#df-439ae64c-e364-4350-895c-06a0fa0be228 button.colab-df-convert');\n",
              "        buttonEl.style.display =\n",
              "          google.colab.kernel.accessAllowed ? 'block' : 'none';\n",
              "\n",
              "        async function convertToInteractive(key) {\n",
              "          const element = document.querySelector('#df-439ae64c-e364-4350-895c-06a0fa0be228');\n",
              "          const dataTable =\n",
              "            await google.colab.kernel.invokeFunction('convertToInteractive',\n",
              "                                                     [key], {});\n",
              "          if (!dataTable) return;\n",
              "\n",
              "          const docLinkHtml = 'Like what you see? Visit the ' +\n",
              "            '<a target=\"_blank\" href=https://colab.research.google.com/notebooks/data_table.ipynb>data table notebook</a>'\n",
              "            + ' to learn more about interactive tables.';\n",
              "          element.innerHTML = '';\n",
              "          dataTable['output_type'] = 'display_data';\n",
              "          await google.colab.output.renderOutput(dataTable, element);\n",
              "          const docLink = document.createElement('div');\n",
              "          docLink.innerHTML = docLinkHtml;\n",
              "          element.appendChild(docLink);\n",
              "        }\n",
              "      </script>\n",
              "    </div>\n",
              "  </div>\n",
              "  "
            ]
          },
          "metadata": {},
          "execution_count": 592
        }
      ]
    },
    {
      "cell_type": "code",
      "source": [
        "trainPredictions = modelLoad.predict(x).flatten()\n",
        "tResults = pd.DataFrame(data={'Train Predications':trainPredictions, 'Actuals':y})"
      ],
      "metadata": {
        "id": "WWoB0-20L0zn"
      },
      "execution_count": null,
      "outputs": []
    },
    {
      "cell_type": "code",
      "source": [
        "tResults = tResults.round({'Train Predications': 2})\n",
        "plt.plot(tResults['Train Predications'][2000:2300])\n",
        "plt.plot(tResults['Actuals'][2000:2300])"
      ],
      "metadata": {
        "colab": {
          "base_uri": "https://localhost:8080/"
        },
        "id": "3O3cm9YtL6JR",
        "outputId": "e10caa70-5bef-41ca-8df3-500f4152d36a"
      },
      "execution_count": null,
      "outputs": [
        {
          "output_type": "execute_result",
          "data": {
            "text/plain": [
              "[<matplotlib.lines.Line2D at 0x7f57ac37c6d0>]"
            ]
          },
          "metadata": {},
          "execution_count": 594
        },
        {
          "output_type": "display_data",
          "data": {
            "text/plain": [
              "<Figure size 432x288 with 1 Axes>"
            ],
            "image/png": "[encoded data removed]"
          },
          "metadata": {
            "needs_background": "light"
          }
        }
      ]
    },
    {
      "cell_type": "code",
      "source": [
        "tResults"
      ],
      "metadata": {
        "colab": {
          "base_uri": "https://localhost:8080/"
        },
        "id": "ZpWYfgaeL7om",
        "outputId": "7ef2f2a0-48c6-4591-8070-fa10e6084a26"
      },
      "execution_count": null,
      "outputs": [
        {
          "output_type": "execute_result",
          "data": {
            "text/plain": [
              "      Train Predications  Actuals\n",
              "0               0.000000      0.0\n",
              "1               0.010000      0.0\n",
              "2              10.880000     12.0\n",
              "3              34.029999     34.8\n",
              "4              35.790001     33.9\n",
              "...                  ...      ...\n",
              "3595            1.780000      1.8\n",
              "3596            0.700000      0.9\n",
              "3597            0.020000      0.0\n",
              "3598            0.000000      0.0\n",
              "3599            0.000000      0.0\n",
              "\n",
              "[3600 rows x 2 columns]"
            ],
            "text/html": [
              "\n",
              "  <div id=\"df-f8425727-2fe5-4f41-9be8-532a0d42186f\">\n",
              "    <div class=\"colab-df-container\">\n",
              "      <div>\n",
              "<style scoped>\n",
              "    .dataframe tbody tr th:only-of-type {\n",
              "        vertical-align: middle;\n",
              "    }\n",
              "\n",
              "    .dataframe tbody tr th {\n",
              "        vertical-align: top;\n",
              "    }\n",
              "\n",
              "    .dataframe thead th {\n",
              "        text-align: right;\n",
              "    }\n",
              "</style>\n",
              "<table border=\"1\" class=\"dataframe\">\n",
              "  <thead>\n",
              "    <tr style=\"text-align: right;\">\n",
              "      <th></th>\n",
              "      <th>Train Predications</th>\n",
              "      <th>Actuals</th>\n",
              "    </tr>\n",
              "  </thead>\n",
              "  <tbody>\n",
              "    <tr>\n",
              "      <th>0</th>\n",
              "      <td>0.000000</td>\n",
              "      <td>0.0</td>\n",
              "    </tr>\n",
              "    <tr>\n",
              "      <th>1</th>\n",
              "      <td>0.010000</td>\n",
              "      <td>0.0</td>\n",
              "    </tr>\n",
              "    <tr>\n",
              "      <th>2</th>\n",
              "      <td>10.880000</td>\n",
              "      <td>12.0</td>\n",
              "    </tr>\n",
              "    <tr>\n",
              "      <th>3</th>\n",
              "      <td>34.029999</td>\n",
              "      <td>34.8</td>\n",
              "    </tr>\n",
              "    <tr>\n",
              "      <th>4</th>\n",
              "      <td>35.790001</td>\n",
              "      <td>33.9</td>\n",
              "    </tr>\n",
              "    <tr>\n",
              "      <th>...</th>\n",
              "      <td>...</td>\n",
              "      <td>...</td>\n",
              "    </tr>\n",
              "    <tr>\n",
              "      <th>3595</th>\n",
              "      <td>1.780000</td>\n",
              "      <td>1.8</td>\n",
              "    </tr>\n",
              "    <tr>\n",
              "      <th>3596</th>\n",
              "      <td>0.700000</td>\n",
              "      <td>0.9</td>\n",
              "    </tr>\n",
              "    <tr>\n",
              "      <th>3597</th>\n",
              "      <td>0.020000</td>\n",
              "      <td>0.0</td>\n",
              "    </tr>\n",
              "    <tr>\n",
              "      <th>3598</th>\n",
              "      <td>0.000000</td>\n",
              "      <td>0.0</td>\n",
              "    </tr>\n",
              "    <tr>\n",
              "      <th>3599</th>\n",
              "      <td>0.000000</td>\n",
              "      <td>0.0</td>\n",
              "    </tr>\n",
              "  </tbody>\n",
              "</table>\n",
              "<p>3600 rows × 2 columns</p>\n",
              "</div>\n",
              "      <button class=\"colab-df-convert\" onclick=\"convertToInteractive('df-f8425727-2fe5-4f41-9be8-532a0d42186f')\"\n",
              "              title=\"Convert this dataframe to an interactive table.\"\n",
              "              style=\"display:none;\">\n",
              "        \n",
              "  <svg xmlns=\"http://www.w3.org/2000/svg\" height=\"24px\"viewBox=\"0 0 24 24\"\n",
              "       width=\"24px\">\n",
              "    <path d=\"M0 0h24v24H0V0z\" fill=\"none\"/>\n",
              "    <path d=\"M18.56 5.44l.94 2.06.94-2.06 2.06-.94-2.06-.94-.94-2.06-.94 2.06-2.06.94zm-11 1L8.5 8.5l.94-2.06 2.06-.94-2.06-.94L8.5 2.5l-.94 2.06-2.06.94zm10 10l.94 2.06.94-2.06 2.06-.94-2.06-.94-.94-2.06-.94 2.06-2.06.94z\"/><path d=\"M17.41 7.96l-1.37-1.37c-.4-.4-.92-.59-1.43-.59-.52 0-1.04.2-1.43.59L10.3 9.45l-7.72 7.72c-.78.78-.78 2.05 0 2.83L4 21.41c.39.39.9.59 1.41.59.51 0 1.02-.2 1.41-.59l7.78-7.78 2.81-2.81c.8-.78.8-2.07 0-2.86zM5.41 20L4 18.59l7.72-7.72 1.47 1.35L5.41 20z\"/>\n",
              "  </svg>\n",
              "      </button>\n",
              "      \n",
              "  <style>\n",
              "    .colab-df-container {\n",
              "      display:flex;\n",
              "      flex-wrap:wrap;\n",
              "      gap: 12px;\n",
              "    }\n",
              "\n",
              "    .colab-df-convert {\n",
              "      background-color: #E8F0FE;\n",
              "      border: none;\n",
              "      border-radius: 50%;\n",
              "      cursor: pointer;\n",
              "      display: none;\n",
              "      fill: #1967D2;\n",
              "      height: 32px;\n",
              "      padding: 0 0 0 0;\n",
              "      width: 32px;\n",
              "    }\n",
              "\n",
              "    .colab-df-convert:hover {\n",
              "      background-color: #E2EBFA;\n",
              "      box-shadow: 0px 1px 2px rgba(60, 64, 67, 0.3), 0px 1px 3px 1px rgba(60, 64, 67, 0.15);\n",
              "      fill: #174EA6;\n",
              "    }\n",
              "\n",
              "    [theme=dark] .colab-df-convert {\n",
              "      background-color: #3B4455;\n",
              "      fill: #D2E3FC;\n",
              "    }\n",
              "\n",
              "    [theme=dark] .colab-df-convert:hover {\n",
              "      background-color: #434B5C;\n",
              "      box-shadow: 0px 1px 3px 1px rgba(0, 0, 0, 0.15);\n",
              "      filter: drop-shadow(0px 1px 2px rgba(0, 0, 0, 0.3));\n",
              "      fill: #FFFFFF;\n",
              "    }\n",
              "  </style>\n",
              "\n",
              "      <script>\n",
              "        const buttonEl =\n",
              "          document.querySelector('#df-f8425727-2fe5-4f41-9be8-532a0d42186f button.colab-df-convert');\n",
              "        buttonEl.style.display =\n",
              "          google.colab.kernel.accessAllowed ? 'block' : 'none';\n",
              "\n",
              "        async function convertToInteractive(key) {\n",
              "          const element = document.querySelector('#df-f8425727-2fe5-4f41-9be8-532a0d42186f');\n",
              "          const dataTable =\n",
              "            await google.colab.kernel.invokeFunction('convertToInteractive',\n",
              "                                                     [key], {});\n",
              "          if (!dataTable) return;\n",
              "\n",
              "          const docLinkHtml = 'Like what you see? Visit the ' +\n",
              "            '<a target=\"_blank\" href=https://colab.research.google.com/notebooks/data_table.ipynb>data table notebook</a>'\n",
              "            + ' to learn more about interactive tables.';\n",
              "          element.innerHTML = '';\n",
              "          dataTable['output_type'] = 'display_data';\n",
              "          await google.colab.output.renderOutput(dataTable, element);\n",
              "          const docLink = document.createElement('div');\n",
              "          docLink.innerHTML = docLinkHtml;\n",
              "          element.appendChild(docLink);\n",
              "        }\n",
              "      </script>\n",
              "    </div>\n",
              "  </div>\n",
              "  "
            ]
          },
          "metadata": {},
          "execution_count": 595
        }
      ]
    },
    {
      "cell_type": "code",
      "source": [
        "output = df.copy()\n"
      ],
      "metadata": {
        "id": "4Nng3qSvY8Vu"
      },
      "execution_count": null,
      "outputs": []
    },
    {
      "cell_type": "code",
      "source": [
        "output.reset_index(inplace=True)\n",
        "output"
      ],
      "metadata": {
        "colab": {
          "base_uri": "https://localhost:8080/"
        },
        "id": "NLicb1djjxn4",
        "outputId": "be78ff1d-c45e-43eb-8bb2-3248e54dbb76"
      },
      "execution_count": null,
      "outputs": [
        {
          "output_type": "execute_result",
          "data": {
            "text/plain": [
              "          forecastPeriod  temperature  weatherType  uvindex  AO_PV_generation  \\\n",
              "0    2019-09-01 00:00:00           14            7        0               0.0   \n",
              "1    2019-09-01 03:00:00           12            2        0               0.0   \n",
              "2    2019-09-01 06:00:00           12            1        1              13.1   \n",
              "3    2019-09-01 09:00:00           14            3        3              32.1   \n",
              "4    2019-09-01 12:00:00           17            3        5              33.2   \n",
              "...                  ...          ...          ...      ...               ...   \n",
              "3651 2020-11-30 09:00:00            9            8        1               1.8   \n",
              "3652 2020-11-30 12:00:00           11            7        1               0.9   \n",
              "3653 2020-11-30 15:00:00           11            7        1               0.0   \n",
              "3654 2020-11-30 18:00:00           10            7        0               0.0   \n",
              "3655 2020-11-30 21:00:00           10            7        0               0.0   \n",
              "\n",
              "           Day sin       Day cos  Year sin  Year cos  \n",
              "0    -8.223106e-12  1.000000e+00 -0.862760 -0.505613  \n",
              "1     7.071068e-01  7.071068e-01 -0.863845 -0.503757  \n",
              "2     1.000000e+00  1.078645e-11 -0.864927 -0.501898  \n",
              "3     7.071068e-01 -7.071068e-01 -0.866004 -0.500037  \n",
              "4     1.334979e-11 -1.000000e+00 -0.867077 -0.498174  \n",
              "...            ...           ...       ...       ...  \n",
              "3651  7.071068e-01 -7.071068e-01 -0.508255  0.861207  \n",
              "3652  3.172823e-12 -1.000000e+00 -0.506402  0.862298  \n",
              "3653 -7.071068e-01 -7.071068e-01 -0.504546  0.863385  \n",
              "3654 -1.000000e+00 -5.736167e-12 -0.502689  0.864468  \n",
              "3655 -7.071068e-01  7.071068e-01 -0.500828  0.865547  \n",
              "\n",
              "[3656 rows x 9 columns]"
            ],
            "text/html": [
              "\n",
              "  <div id=\"df-34d5b344-1478-455a-bcc9-9a17e1eff9f1\">\n",
              "    <div class=\"colab-df-container\">\n",
              "      <div>\n",
              "<style scoped>\n",
              "    .dataframe tbody tr th:only-of-type {\n",
              "        vertical-align: middle;\n",
              "    }\n",
              "\n",
              "    .dataframe tbody tr th {\n",
              "        vertical-align: top;\n",
              "    }\n",
              "\n",
              "    .dataframe thead th {\n",
              "        text-align: right;\n",
              "    }\n",
              "</style>\n",
              "<table border=\"1\" class=\"dataframe\">\n",
              "  <thead>\n",
              "    <tr style=\"text-align: right;\">\n",
              "      <th></th>\n",
              "      <th>forecastPeriod</th>\n",
              "      <th>temperature</th>\n",
              "      <th>weatherType</th>\n",
              "      <th>uvindex</th>\n",
              "      <th>AO_PV_generation</th>\n",
              "      <th>Day sin</th>\n",
              "      <th>Day cos</th>\n",
              "      <th>Year sin</th>\n",
              "      <th>Year cos</th>\n",
              "    </tr>\n",
              "  </thead>\n",
              "  <tbody>\n",
              "    <tr>\n",
              "      <th>0</th>\n",
              "      <td>2019-09-01 00:00:00</td>\n",
              "      <td>14</td>\n",
              "      <td>7</td>\n",
              "      <td>0</td>\n",
              "      <td>0.0</td>\n",
              "      <td>-8.223106e-12</td>\n",
              "      <td>1.000000e+00</td>\n",
              "      <td>-0.862760</td>\n",
              "      <td>-0.505613</td>\n",
              "    </tr>\n",
              "    <tr>\n",
              "      <th>1</th>\n",
              "      <td>2019-09-01 03:00:00</td>\n",
              "      <td>12</td>\n",
              "      <td>2</td>\n",
              "      <td>0</td>\n",
              "      <td>0.0</td>\n",
              "      <td>7.071068e-01</td>\n",
              "      <td>7.071068e-01</td>\n",
              "      <td>-0.863845</td>\n",
              "      <td>-0.503757</td>\n",
              "    </tr>\n",
              "    <tr>\n",
              "      <th>2</th>\n",
              "      <td>2019-09-01 06:00:00</td>\n",
              "      <td>12</td>\n",
              "      <td>1</td>\n",
              "      <td>1</td>\n",
              "      <td>13.1</td>\n",
              "      <td>1.000000e+00</td>\n",
              "      <td>1.078645e-11</td>\n",
              "      <td>-0.864927</td>\n",
              "      <td>-0.501898</td>\n",
              "    </tr>\n",
              "    <tr>\n",
              "      <th>3</th>\n",
              "      <td>2019-09-01 09:00:00</td>\n",
              "      <td>14</td>\n",
              "      <td>3</td>\n",
              "      <td>3</td>\n",
              "      <td>32.1</td>\n",
              "      <td>7.071068e-01</td>\n",
              "      <td>-7.071068e-01</td>\n",
              "      <td>-0.866004</td>\n",
              "      <td>-0.500037</td>\n",
              "    </tr>\n",
              "    <tr>\n",
              "      <th>4</th>\n",
              "      <td>2019-09-01 12:00:00</td>\n",
              "      <td>17</td>\n",
              "      <td>3</td>\n",
              "      <td>5</td>\n",
              "      <td>33.2</td>\n",
              "      <td>1.334979e-11</td>\n",
              "      <td>-1.000000e+00</td>\n",
              "      <td>-0.867077</td>\n",
              "      <td>-0.498174</td>\n",
              "    </tr>\n",
              "    <tr>\n",
              "      <th>...</th>\n",
              "      <td>...</td>\n",
              "      <td>...</td>\n",
              "      <td>...</td>\n",
              "      <td>...</td>\n",
              "      <td>...</td>\n",
              "      <td>...</td>\n",
              "      <td>...</td>\n",
              "      <td>...</td>\n",
              "      <td>...</td>\n",
              "    </tr>\n",
              "    <tr>\n",
              "      <th>3651</th>\n",
              "      <td>2020-11-30 09:00:00</td>\n",
              "      <td>9</td>\n",
              "      <td>8</td>\n",
              "      <td>1</td>\n",
              "      <td>1.8</td>\n",
              "      <td>7.071068e-01</td>\n",
              "      <td>-7.071068e-01</td>\n",
              "      <td>-0.508255</td>\n",
              "      <td>0.861207</td>\n",
              "    </tr>\n",
              "    <tr>\n",
              "      <th>3652</th>\n",
              "      <td>2020-11-30 12:00:00</td>\n",
              "      <td>11</td>\n",
              "      <td>7</td>\n",
              "      <td>1</td>\n",
              "      <td>0.9</td>\n",
              "      <td>3.172823e-12</td>\n",
              "      <td>-1.000000e+00</td>\n",
              "      <td>-0.506402</td>\n",
              "      <td>0.862298</td>\n",
              "    </tr>\n",
              "    <tr>\n",
              "      <th>3653</th>\n",
              "      <td>2020-11-30 15:00:00</td>\n",
              "      <td>11</td>\n",
              "      <td>7</td>\n",
              "      <td>1</td>\n",
              "      <td>0.0</td>\n",
              "      <td>-7.071068e-01</td>\n",
              "      <td>-7.071068e-01</td>\n",
              "      <td>-0.504546</td>\n",
              "      <td>0.863385</td>\n",
              "    </tr>\n",
              "    <tr>\n",
              "      <th>3654</th>\n",
              "      <td>2020-11-30 18:00:00</td>\n",
              "      <td>10</td>\n",
              "      <td>7</td>\n",
              "      <td>0</td>\n",
              "      <td>0.0</td>\n",
              "      <td>-1.000000e+00</td>\n",
              "      <td>-5.736167e-12</td>\n",
              "      <td>-0.502689</td>\n",
              "      <td>0.864468</td>\n",
              "    </tr>\n",
              "    <tr>\n",
              "      <th>3655</th>\n",
              "      <td>2020-11-30 21:00:00</td>\n",
              "      <td>10</td>\n",
              "      <td>7</td>\n",
              "      <td>0</td>\n",
              "      <td>0.0</td>\n",
              "      <td>-7.071068e-01</td>\n",
              "      <td>7.071068e-01</td>\n",
              "      <td>-0.500828</td>\n",
              "      <td>0.865547</td>\n",
              "    </tr>\n",
              "  </tbody>\n",
              "</table>\n",
              "<p>3656 rows × 9 columns</p>\n",
              "</div>\n",
              "      <button class=\"colab-df-convert\" onclick=\"convertToInteractive('df-34d5b344-1478-455a-bcc9-9a17e1eff9f1')\"\n",
              "              title=\"Convert this dataframe to an interactive table.\"\n",
              "              style=\"display:none;\">\n",
              "        \n",
              "  <svg xmlns=\"http://www.w3.org/2000/svg\" height=\"24px\"viewBox=\"0 0 24 24\"\n",
              "       width=\"24px\">\n",
              "    <path d=\"M0 0h24v24H0V0z\" fill=\"none\"/>\n",
              "    <path d=\"M18.56 5.44l.94 2.06.94-2.06 2.06-.94-2.06-.94-.94-2.06-.94 2.06-2.06.94zm-11 1L8.5 8.5l.94-2.06 2.06-.94-2.06-.94L8.5 2.5l-.94 2.06-2.06.94zm10 10l.94 2.06.94-2.06 2.06-.94-2.06-.94-.94-2.06-.94 2.06-2.06.94z\"/><path d=\"M17.41 7.96l-1.37-1.37c-.4-.4-.92-.59-1.43-.59-.52 0-1.04.2-1.43.59L10.3 9.45l-7.72 7.72c-.78.78-.78 2.05 0 2.83L4 21.41c.39.39.9.59 1.41.59.51 0 1.02-.2 1.41-.59l7.78-7.78 2.81-2.81c.8-.78.8-2.07 0-2.86zM5.41 20L4 18.59l7.72-7.72 1.47 1.35L5.41 20z\"/>\n",
              "  </svg>\n",
              "      </button>\n",
              "      \n",
              "  <style>\n",
              "    .colab-df-container {\n",
              "      display:flex;\n",
              "      flex-wrap:wrap;\n",
              "      gap: 12px;\n",
              "    }\n",
              "\n",
              "    .colab-df-convert {\n",
              "      background-color: #E8F0FE;\n",
              "      border: none;\n",
              "      border-radius: 50%;\n",
              "      cursor: pointer;\n",
              "      display: none;\n",
              "      fill: #1967D2;\n",
              "      height: 32px;\n",
              "      padding: 0 0 0 0;\n",
              "      width: 32px;\n",
              "    }\n",
              "\n",
              "    .colab-df-convert:hover {\n",
              "      background-color: #E2EBFA;\n",
              "      box-shadow: 0px 1px 2px rgba(60, 64, 67, 0.3), 0px 1px 3px 1px rgba(60, 64, 67, 0.15);\n",
              "      fill: #174EA6;\n",
              "    }\n",
              "\n",
              "    [theme=dark] .colab-df-convert {\n",
              "      background-color: #3B4455;\n",
              "      fill: #D2E3FC;\n",
              "    }\n",
              "\n",
              "    [theme=dark] .colab-df-convert:hover {\n",
              "      background-color: #434B5C;\n",
              "      box-shadow: 0px 1px 3px 1px rgba(0, 0, 0, 0.15);\n",
              "      filter: drop-shadow(0px 1px 2px rgba(0, 0, 0, 0.3));\n",
              "      fill: #FFFFFF;\n",
              "    }\n",
              "  </style>\n",
              "\n",
              "      <script>\n",
              "        const buttonEl =\n",
              "          document.querySelector('#df-34d5b344-1478-455a-bcc9-9a17e1eff9f1 button.colab-df-convert');\n",
              "        buttonEl.style.display =\n",
              "          google.colab.kernel.accessAllowed ? 'block' : 'none';\n",
              "\n",
              "        async function convertToInteractive(key) {\n",
              "          const element = document.querySelector('#df-34d5b344-1478-455a-bcc9-9a17e1eff9f1');\n",
              "          const dataTable =\n",
              "            await google.colab.kernel.invokeFunction('convertToInteractive',\n",
              "                                                     [key], {});\n",
              "          if (!dataTable) return;\n",
              "\n",
              "          const docLinkHtml = 'Like what you see? Visit the ' +\n",
              "            '<a target=\"_blank\" href=https://colab.research.google.com/notebooks/data_table.ipynb>data table notebook</a>'\n",
              "            + ' to learn more about interactive tables.';\n",
              "          element.innerHTML = '';\n",
              "          dataTable['output_type'] = 'display_data';\n",
              "          await google.colab.output.renderOutput(dataTable, element);\n",
              "          const docLink = document.createElement('div');\n",
              "          docLink.innerHTML = docLinkHtml;\n",
              "          element.appendChild(docLink);\n",
              "        }\n",
              "      </script>\n",
              "    </div>\n",
              "  </div>\n",
              "  "
            ]
          },
          "metadata": {},
          "execution_count": 597
        }
      ]
    },
    {
      "cell_type": "code",
      "source": [
        "predictions = tResults['Train Predications'].to_list()\n",
        "output['Predictions'] = pd.Series(predictions)\n",
        "output"
      ],
      "metadata": {
        "colab": {
          "base_uri": "https://localhost:8080/",
          "height": 678
        },
        "id": "RHHx797aekB8",
        "outputId": "4e6452bf-a7cd-4709-ca95-3b5977e4601e"
      },
      "execution_count": null,
      "outputs": [
        {
          "output_type": "execute_result",
          "data": {
            "text/plain": [
              "          forecastPeriod  temperature  weatherType  uvindex  AO_PV_generation  \\\n",
              "0    2019-09-01 00:00:00           14            7        0               0.0   \n",
              "1    2019-09-01 03:00:00           12            2        0               0.0   \n",
              "2    2019-09-01 06:00:00           12            1        1              13.1   \n",
              "3    2019-09-01 09:00:00           14            3        3              32.1   \n",
              "4    2019-09-01 12:00:00           17            3        5              33.2   \n",
              "...                  ...          ...          ...      ...               ...   \n",
              "3651 2020-11-30 09:00:00            9            8        1               1.8   \n",
              "3652 2020-11-30 12:00:00           11            7        1               0.9   \n",
              "3653 2020-11-30 15:00:00           11            7        1               0.0   \n",
              "3654 2020-11-30 18:00:00           10            7        0               0.0   \n",
              "3655 2020-11-30 21:00:00           10            7        0               0.0   \n",
              "\n",
              "           Day sin       Day cos  Year sin  Year cos  Predictions  \n",
              "0    -8.223106e-12  1.000000e+00 -0.862760 -0.505613     0.000000  \n",
              "1     7.071068e-01  7.071068e-01 -0.863845 -0.503757     0.010000  \n",
              "2     1.000000e+00  1.078645e-11 -0.864927 -0.501898    10.880000  \n",
              "3     7.071068e-01 -7.071068e-01 -0.866004 -0.500037    34.029999  \n",
              "4     1.334979e-11 -1.000000e+00 -0.867077 -0.498174    35.790001  \n",
              "...            ...           ...       ...       ...          ...  \n",
              "3651  7.071068e-01 -7.071068e-01 -0.508255  0.861207          NaN  \n",
              "3652  3.172823e-12 -1.000000e+00 -0.506402  0.862298          NaN  \n",
              "3653 -7.071068e-01 -7.071068e-01 -0.504546  0.863385          NaN  \n",
              "3654 -1.000000e+00 -5.736167e-12 -0.502689  0.864468          NaN  \n",
              "3655 -7.071068e-01  7.071068e-01 -0.500828  0.865547          NaN  \n",
              "\n",
              "[3599 rows x 10 columns]"
            ],
            "text/html": [
              "\n",
              "  <div id=\"df-d5a22ad3-61a5-4c70-af63-f34b96e8b4a8\">\n",
              "    <div class=\"colab-df-container\">\n",
              "      <div>\n",
              "<style scoped>\n",
              "    .dataframe tbody tr th:only-of-type {\n",
              "        vertical-align: middle;\n",
              "    }\n",
              "\n",
              "    .dataframe tbody tr th {\n",
              "        vertical-align: top;\n",
              "    }\n",
              "\n",
              "    .dataframe thead th {\n",
              "        text-align: right;\n",
              "    }\n",
              "</style>\n",
              "<table border=\"1\" class=\"dataframe\">\n",
              "  <thead>\n",
              "    <tr style=\"text-align: right;\">\n",
              "      <th></th>\n",
              "      <th>forecastPeriod</th>\n",
              "      <th>temperature</th>\n",
              "      <th>weatherType</th>\n",
              "      <th>uvindex</th>\n",
              "      <th>AO_PV_generation</th>\n",
              "      <th>Day sin</th>\n",
              "      <th>Day cos</th>\n",
              "      <th>Year sin</th>\n",
              "      <th>Year cos</th>\n",
              "      <th>Predictions</th>\n",
              "    </tr>\n",
              "  </thead>\n",
              "  <tbody>\n",
              "    <tr>\n",
              "      <th>0</th>\n",
              "      <td>2019-09-01 00:00:00</td>\n",
              "      <td>14</td>\n",
              "      <td>7</td>\n",
              "      <td>0</td>\n",
              "      <td>0.0</td>\n",
              "      <td>-8.223106e-12</td>\n",
              "      <td>1.000000e+00</td>\n",
              "      <td>-0.862760</td>\n",
              "      <td>-0.505613</td>\n",
              "      <td>0.000000</td>\n",
              "    </tr>\n",
              "    <tr>\n",
              "      <th>1</th>\n",
              "      <td>2019-09-01 03:00:00</td>\n",
              "      <td>12</td>\n",
              "      <td>2</td>\n",
              "      <td>0</td>\n",
              "      <td>0.0</td>\n",
              "      <td>7.071068e-01</td>\n",
              "      <td>7.071068e-01</td>\n",
              "      <td>-0.863845</td>\n",
              "      <td>-0.503757</td>\n",
              "      <td>0.010000</td>\n",
              "    </tr>\n",
              "    <tr>\n",
              "      <th>2</th>\n",
              "      <td>2019-09-01 06:00:00</td>\n",
              "      <td>12</td>\n",
              "      <td>1</td>\n",
              "      <td>1</td>\n",
              "      <td>13.1</td>\n",
              "      <td>1.000000e+00</td>\n",
              "      <td>1.078645e-11</td>\n",
              "      <td>-0.864927</td>\n",
              "      <td>-0.501898</td>\n",
              "      <td>10.880000</td>\n",
              "    </tr>\n",
              "    <tr>\n",
              "      <th>3</th>\n",
              "      <td>2019-09-01 09:00:00</td>\n",
              "      <td>14</td>\n",
              "      <td>3</td>\n",
              "      <td>3</td>\n",
              "      <td>32.1</td>\n",
              "      <td>7.071068e-01</td>\n",
              "      <td>-7.071068e-01</td>\n",
              "      <td>-0.866004</td>\n",
              "      <td>-0.500037</td>\n",
              "      <td>34.029999</td>\n",
              "    </tr>\n",
              "    <tr>\n",
              "      <th>4</th>\n",
              "      <td>2019-09-01 12:00:00</td>\n",
              "      <td>17</td>\n",
              "      <td>3</td>\n",
              "      <td>5</td>\n",
              "      <td>33.2</td>\n",
              "      <td>1.334979e-11</td>\n",
              "      <td>-1.000000e+00</td>\n",
              "      <td>-0.867077</td>\n",
              "      <td>-0.498174</td>\n",
              "      <td>35.790001</td>\n",
              "    </tr>\n",
              "    <tr>\n",
              "      <th>...</th>\n",
              "      <td>...</td>\n",
              "      <td>...</td>\n",
              "      <td>...</td>\n",
              "      <td>...</td>\n",
              "      <td>...</td>\n",
              "      <td>...</td>\n",
              "      <td>...</td>\n",
              "      <td>...</td>\n",
              "      <td>...</td>\n",
              "      <td>...</td>\n",
              "    </tr>\n",
              "    <tr>\n",
              "      <th>3651</th>\n",
              "      <td>2020-11-30 09:00:00</td>\n",
              "      <td>9</td>\n",
              "      <td>8</td>\n",
              "      <td>1</td>\n",
              "      <td>1.8</td>\n",
              "      <td>7.071068e-01</td>\n",
              "      <td>-7.071068e-01</td>\n",
              "      <td>-0.508255</td>\n",
              "      <td>0.861207</td>\n",
              "      <td>NaN</td>\n",
              "    </tr>\n",
              "    <tr>\n",
              "      <th>3652</th>\n",
              "      <td>2020-11-30 12:00:00</td>\n",
              "      <td>11</td>\n",
              "      <td>7</td>\n",
              "      <td>1</td>\n",
              "      <td>0.9</td>\n",
              "      <td>3.172823e-12</td>\n",
              "      <td>-1.000000e+00</td>\n",
              "      <td>-0.506402</td>\n",
              "      <td>0.862298</td>\n",
              "      <td>NaN</td>\n",
              "    </tr>\n",
              "    <tr>\n",
              "      <th>3653</th>\n",
              "      <td>2020-11-30 15:00:00</td>\n",
              "      <td>11</td>\n",
              "      <td>7</td>\n",
              "      <td>1</td>\n",
              "      <td>0.0</td>\n",
              "      <td>-7.071068e-01</td>\n",
              "      <td>-7.071068e-01</td>\n",
              "      <td>-0.504546</td>\n",
              "      <td>0.863385</td>\n",
              "      <td>NaN</td>\n",
              "    </tr>\n",
              "    <tr>\n",
              "      <th>3654</th>\n",
              "      <td>2020-11-30 18:00:00</td>\n",
              "      <td>10</td>\n",
              "      <td>7</td>\n",
              "      <td>0</td>\n",
              "      <td>0.0</td>\n",
              "      <td>-1.000000e+00</td>\n",
              "      <td>-5.736167e-12</td>\n",
              "      <td>-0.502689</td>\n",
              "      <td>0.864468</td>\n",
              "      <td>NaN</td>\n",
              "    </tr>\n",
              "    <tr>\n",
              "      <th>3655</th>\n",
              "      <td>2020-11-30 21:00:00</td>\n",
              "      <td>10</td>\n",
              "      <td>7</td>\n",
              "      <td>0</td>\n",
              "      <td>0.0</td>\n",
              "      <td>-7.071068e-01</td>\n",
              "      <td>7.071068e-01</td>\n",
              "      <td>-0.500828</td>\n",
              "      <td>0.865547</td>\n",
              "      <td>NaN</td>\n",
              "    </tr>\n",
              "  </tbody>\n",
              "</table>\n",
              "<p>3599 rows × 10 columns</p>\n",
              "</div>\n",
              "      <button class=\"colab-df-convert\" onclick=\"convertToInteractive('df-d5a22ad3-61a5-4c70-af63-f34b96e8b4a8')\"\n",
              "              title=\"Convert this dataframe to an interactive table.\"\n",
              "              style=\"display:none;\">\n",
              "        \n",
              "  <svg xmlns=\"http://www.w3.org/2000/svg\" height=\"24px\"viewBox=\"0 0 24 24\"\n",
              "       width=\"24px\">\n",
              "    <path d=\"M0 0h24v24H0V0z\" fill=\"none\"/>\n",
              "    <path d=\"M18.56 5.44l.94 2.06.94-2.06 2.06-.94-2.06-.94-.94-2.06-.94 2.06-2.06.94zm-11 1L8.5 8.5l.94-2.06 2.06-.94-2.06-.94L8.5 2.5l-.94 2.06-2.06.94zm10 10l.94 2.06.94-2.06 2.06-.94-2.06-.94-.94-2.06-.94 2.06-2.06.94z\"/><path d=\"M17.41 7.96l-1.37-1.37c-.4-.4-.92-.59-1.43-.59-.52 0-1.04.2-1.43.59L10.3 9.45l-7.72 7.72c-.78.78-.78 2.05 0 2.83L4 21.41c.39.39.9.59 1.41.59.51 0 1.02-.2 1.41-.59l7.78-7.78 2.81-2.81c.8-.78.8-2.07 0-2.86zM5.41 20L4 18.59l7.72-7.72 1.47 1.35L5.41 20z\"/>\n",
              "  </svg>\n",
              "      </button>\n",
              "      \n",
              "  <style>\n",
              "    .colab-df-container {\n",
              "      display:flex;\n",
              "      flex-wrap:wrap;\n",
              "      gap: 12px;\n",
              "    }\n",
              "\n",
              "    .colab-df-convert {\n",
              "      background-color: #E8F0FE;\n",
              "      border: none;\n",
              "      border-radius: 50%;\n",
              "      cursor: pointer;\n",
              "      display: none;\n",
              "      fill: #1967D2;\n",
              "      height: 32px;\n",
              "      padding: 0 0 0 0;\n",
              "      width: 32px;\n",
              "    }\n",
              "\n",
              "    .colab-df-convert:hover {\n",
              "      background-color: #E2EBFA;\n",
              "      box-shadow: 0px 1px 2px rgba(60, 64, 67, 0.3), 0px 1px 3px 1px rgba(60, 64, 67, 0.15);\n",
              "      fill: #174EA6;\n",
              "    }\n",
              "\n",
              "    [theme=dark] .colab-df-convert {\n",
              "      background-color: #3B4455;\n",
              "      fill: #D2E3FC;\n",
              "    }\n",
              "\n",
              "    [theme=dark] .colab-df-convert:hover {\n",
              "      background-color: #434B5C;\n",
              "      box-shadow: 0px 1px 3px 1px rgba(0, 0, 0, 0.15);\n",
              "      filter: drop-shadow(0px 1px 2px rgba(0, 0, 0, 0.3));\n",
              "      fill: #FFFFFF;\n",
              "    }\n",
              "  </style>\n",
              "\n",
              "      <script>\n",
              "        const buttonEl =\n",
              "          document.querySelector('#df-d5a22ad3-61a5-4c70-af63-f34b96e8b4a8 button.colab-df-convert');\n",
              "        buttonEl.style.display =\n",
              "          google.colab.kernel.accessAllowed ? 'block' : 'none';\n",
              "\n",
              "        async function convertToInteractive(key) {\n",
              "          const element = document.querySelector('#df-d5a22ad3-61a5-4c70-af63-f34b96e8b4a8');\n",
              "          const dataTable =\n",
              "            await google.colab.kernel.invokeFunction('convertToInteractive',\n",
              "                                                     [key], {});\n",
              "          if (!dataTable) return;\n",
              "\n",
              "          const docLinkHtml = 'Like what you see? Visit the ' +\n",
              "            '<a target=\"_blank\" href=https://colab.research.google.com/notebooks/data_table.ipynb>data table notebook</a>'\n",
              "            + ' to learn more about interactive tables.';\n",
              "          element.innerHTML = '';\n",
              "          dataTable['output_type'] = 'display_data';\n",
              "          await google.colab.output.renderOutput(dataTable, element);\n",
              "          const docLink = document.createElement('div');\n",
              "          docLink.innerHTML = docLinkHtml;\n",
              "          element.appendChild(docLink);\n",
              "        }\n",
              "      </script>\n",
              "    </div>\n",
              "  </div>\n",
              "  "
            ]
          },
          "metadata": {},
          "execution_count": 598
        }
      ]
    },
    {
      "cell_type": "code",
      "source": [
        "output.to_csv('solar-predictions')"
      ],
      "metadata": {
        "id": "9rn40yUaOZ3V"
      },
      "execution_count": null,
      "outputs": []
    }
  ]
}